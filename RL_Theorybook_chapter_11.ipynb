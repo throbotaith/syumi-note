{
 "cells": [
  {
   "cell_type": "markdown",
   "metadata": {},
   "source": [
    "### Reinforcement Learning: Theory and Algorithms\n",
    "\n",
    "* 第11章における各定理、補題、系などをまとめます。証明は初見でもこれを参考にすれば導出できるように丁寧に記します。\n",
    "* このページでは方策勾配についてまとめますが、理論本の中で説明されていないことも紹介する場合があります。\n",
    "* 必要に応じて実装を行います。\n",
    "\n"
   ]
  },
  {
   "cell_type": "markdown",
   "metadata": {},
   "source": [
    "#### 方策勾配\n",
    "* 方策勾配は方策を何らかのパラメータを持った関数で近似し、その関数の勾配を取ることで解析し、最適方策に近づけるように関数を更新していくパラダイムです。方策を直接パラメータ化するというやり方の他に、いくつか方策をパラメータ化する手法があります。\n"
   ]
  },
  {
   "cell_type": "markdown",
   "metadata": {},
   "source": [
    "### 方策勾配の例\n",
    "* 方策を直接パラメータ化するという方法の他にいくつか方法があります。ここで紹介いたします。\n",
    "\n",
    "**ソフトマックス方策**\n",
    "* パラメータを指数関数でバウンドします。さらにその和を分母として割ることで正規化、つまり0以上1以下の値にバウンドします。\n",
    "\n",
    "    $$\n",
    "    \\pi_\\theta(a | s) = \\frac{\\exp(\\theta_{s, a})}{\\sum_{a'} \\exp(\\theta_{s, a'})},\n",
    "    $$\n",
    "\n",
    "\n",
    "\n",
    "* 指数関数でバウンドするといい感じな理由：\n",
    "\n",
    "**対数線形方策**\n",
    "* 状態行動ペアに対して1対1に対応する特徴写像$\\phi_{s, a} \\in \\mathbb{R}^d$ が存在すると仮定しまして、以下のように方策を定義します。\n",
    "\n",
    "\n",
    "    $$\n",
    "    \\pi_\\theta(a | s) = \\frac{\\exp \\left(\\theta \\cdot \\phi_{s, a}\\right)}{\\sum_{a^{\\prime} \\in \\mathcal{A}} \\exp \\left(\\theta \\cdot \\phi_{s, a^{\\prime}}\\right)}\n",
    "    $$\n",
    "\n",
    "* 特徴写像をかます理由：\n",
    "\n",
    "**ニューラルソフトマックス方策**\n",
    "* ニューラルネットワーク関数$f_\\theta(s,a):\\mathcal{R}^{S\\times A} \\rightarrow \\mathcal{R}$をつかっておそらく行動価値関数を近似します。近似した関数をさらに指数関数でバウンドする感じです。\n",
    "\n",
    "\n",
    "    $$\n",
    "    \\pi_\\theta(a | s)=\\frac{\\exp \\left(f_\\theta(s, a)\\right)}{\\sum_{a^{\\prime} \\in \\mathcal{A}} \\exp \\left(f_\\theta\\left(s, a^{\\prime}\\right)\\right)}\n",
    "    $$\n",
    "* 性質等\n",
    "\n",
    "\n",
    "\n",
    "\n",
    "\n"
   ]
  },
  {
   "cell_type": "markdown",
   "metadata": {},
   "source": []
  }
 ],
 "metadata": {
  "language_info": {
   "name": "python"
  }
 },
 "nbformat": 4,
 "nbformat_minor": 2
}
