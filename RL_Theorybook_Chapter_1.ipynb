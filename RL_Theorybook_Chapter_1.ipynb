{
 "cells": [
  {
   "cell_type": "markdown",
   "metadata": {},
   "source": [
    "# Reinforcement Learning: Theory and Algorithms\n",
    "\n",
    "第１章のまとめ＋Python実装を行っていきます．\n",
    "\n",
    "# マルコフ決定過程\n",
    "## 割引無限マルコフ決定過程\n",
    "以下のようにタプルで表現できます．\n",
    "$$\n",
    "M=(\\mathcal{S}, \\mathcal{A}, P, r, \\gamma, \\mu)\n",
    "$$\n",
    "- 状態空間：$\\mathcal{S}$，有限または可算無限であると仮定\n",
    "- 行動空間：$\\mathcal{A}$，有限であると仮定\n",
    "- 遷移関数：$P: \\mathcal{S} \\times \\mathcal{A} \\rightarrow \\Delta(\\mathcal{S})$\n",
    "\t- $P_{s, a} := P(\\cdot \\mid s, a)$ \n",
    "- 報酬関数：$r: \\mathcal{S} \\times \\mathcal{A} \\rightarrow[0,1]$\n",
    "- 割引率：$\\gamma \\in [0, 1)$\n",
    "- 初期状態の分布：$\\mu \\in \\Delta(\\mathcal{S})$\n",
    "\n",
    "* 軌跡：$\\tau_t=\\left(s_0, a_0, r_0, s_1, \\ldots, s_t, a_t, r_t\\right)$\n",
    "* すべての軌道集合：**$\\mathcal{H}$\n",
    "* 履歴依存方策：\n",
    "$$\n",
    "\\pi: \\mathcal{H} \\rightarrow \\Delta(\\mathcal{A})\n",
    "$$\n",
    "* 定常方策(非履歴依存)：\n",
    "\t* 確率論的，確率論的：\n",
    "$$\n",
    "\\pi: \\mathcal{S} \\rightarrow \\Delta(\\mathcal{A})\n",
    "$$\n",
    "$$\n",
    "\\pi: \\mathcal{S} \\rightarrow \\mathcal{A}\n",
    "$$\n",
    "\n",
    "## 価値関数\n",
    "* $M$，$\\pi$に従う状態価値関数 $V_M^\\pi: \\mathcal{S} \\rightarrow \\mathbb{R}$： \n",
    "$$\n",
    "V_M^\\pi(s)=\\mathbb{E}\\left[\\sum_{t=0}^{\\infty} \\gamma^t r\\left(s_t, a_t\\right) \\mid \\pi, s_0=s\\right] .\n",
    "$$\n",
    "* $M$，$\\pi$に従う行動価値関数　$Q_M^\\pi: \\mathcal{S} \\times \\mathcal{A} \\rightarrow \\mathbb{R}$：\n",
    "$$\n",
    "Q_M^\\pi(s, a)=\\mathbb{E}\\left[\\sum_{t=0}^{\\infty} \\gamma^t r\\left(s_t, a_t\\right) \\mid \\pi, s_0=s, a_0=a\\right]\n",
    "$$\n",
    "**目標**：$\\max _\\pi V_M^\\pi(s)$を満たす$\\pi$を求める．\n",
    "## 行列方式\n",
    "*   $Q^\\pi \\in \\mathbb{R}^{|\\mathcal{S}||\\mathcal{A}|}$:$(s, a)$成分は $Q^\\pi(s, a)$\n",
    "*   $r \\in \\mathbb{R}^{|\\mathcal{S}||\\mathcal{A}|}$:$(s, a)$成分は $r(s, a)$\n",
    "*   $V^\\pi \\in \\mathbb{R}^{|\\mathcal{S}|}$:$s'$ 成分は $V^\\pi(s')$\n",
    "*   $P$: $(|\\mathcal{S}||\\mathcal{A}|) \\times |\\mathcal{S}|$ ，$(s, a)$ 行，$s'$ 列の要素は $P_{(s, a), s'} = P(s'|s, a)$．\n",
    "*   $P^\\pi$: $(|\\mathcal{S}||\\mathcal{A}|) \\times (|\\mathcal{S}||\\mathcal{A}|)$， $(s, a)$ 行，$(s', a')$ 列の要素は $P_{(s, a), (s', a')}^\\pi = P(s'|s, a) \\pi(a'|s')$．\n",
    "\n",
    "## 定常方策のベルマン方程式\n",
    "\n",
    "### **補題1.4**：ベルマンConsistency方程式\n",
    "$\\pi$が定常方策とすると，$V^\\pi$と$Q^\\pi$はすべての $s \\in \\mathcal{S}$, $a \\in \\mathcal{A}$ に対して，以下の方程式を満たします．\n",
    "$$\n",
    "\\begin{aligned}\n",
    "V^\\pi(s) & =Q^\\pi(s, \\pi(s)) . \\\\\n",
    "Q^\\pi(s, a) & =r(s, a)+\\gamma \\mathbb{E}_{a \\sim \\pi(\\cdot \\mid s), s^{\\prime} \\sim P(\\cdot \\mid s, a)}\\left[V^\\pi\\left(s^{\\prime}\\right)\\right] .\n",
    "\\end{aligned}\n",
    "$$\n",
    "### **証明**\n",
    "****\n",
    "#### **$V^\\pi(s) = \\mathbb{E}_{a \\sim \\pi(\\cdot | s)}[Q^\\pi(s, a)]=Q^\\pi(s, \\pi(s))$ の証明**\n",
    "\n",
    " $V^\\pi(s)$ の定義を振り返りましょう．\n",
    "$$\n",
    "V^\\pi(s) = \\mathbb{E}\\left[ \\sum_{t=0}^\\infty \\gamma^t r(s_t, a_t) \\mid \\pi, s_0 = s \\right]\n",
    "$$\n",
    "期待値の法則を適用し， $a_0 \\sim \\pi(\\cdot|s_0)$ (ここで $s_0=s$)で条件付けを行います．\n",
    "$$\n",
    "V^\\pi(s) = \\mathbb{E}_{a_0 \\sim \\pi(\\cdot | s)} \\left[ \\mathbb{E}\\left[ \\sum_{t=0}^\\infty \\gamma^t r(s_t, a_t) \\mid \\pi, s_0 = s, A_0=a_0 \\right] \\mid \\pi, s_0=s \\right]\n",
    "$$\n",
    " $\\mathbb{E}\\left[ \\sum_{t=0}^\\infty \\gamma^t r(s_t, a_t) \\mid \\pi, s_0 = s, A_0=a_0 \\right]$ は， $Q^\\pi(s, a_0)$ の定義そのものです．したがって，\n",
    "$$\n",
    "V^\\pi(s) = \\mathbb{E}_{a_0 \\sim \\pi(\\cdot | s)} \\left[ Q^\\pi(s, a_0) \\right]\n",
    "$$\n",
    "変数名を $a_0$ から $a$ に変更すると，補題の結果が得られます．\n",
    "$$\n",
    "V^\\pi(s) = \\mathbb{E}_{a \\sim \\pi(\\cdot | s)} \\left[ Q^\\pi(s, a) \\right]\n",
    "$$\n",
    "****\n",
    "#### **$Q^\\pi(s, a) = r(s, a) + \\gamma \\mathbb{E}_{s' \\sim P(\\cdot | s, a)}[V^\\pi(s')]=r(s, a)+\\gamma \\mathbb{E}_{a \\sim \\pi(\\cdot \\mid s), s^{\\prime} \\sim P(\\cdot \\mid s, a)}\\left[V^\\pi\\left(s^{\\prime}\\right)\\right]$ の証明**\n",
    "\n",
    "$Q^\\pi(s, a)$ の定義を振り返りましょう．\n",
    "$$\n",
    "Q^\\pi(s, a) = \\mathbb{E}\\left[ \\sum_{t=0}^\\infty \\gamma^t r(s_t, a_t) \\mid \\pi, s_0 = s, a_0 = a \\right]\n",
    "$$\n",
    "$t=0$を分離します．\n",
    "$$\n",
    "Q^\\pi(s, a) = \\mathbb{E}\\left[ r(s_0, a_0) + \\sum_{t=1}^\\infty \\gamma^t r(s_t, a_t) \\mid \\pi, s_0 = s, a_0 = a \\right]\n",
    "$$\n",
    "期待値の線形性を使います．\n",
    "$$\n",
    "Q^\\pi(s, a) = \\mathbb{E}\\left[ r(s_0, a_0) \\mid \\pi, s_0 = s, a_0 = a \\right] + \\mathbb{E}\\left[ \\sum_{t=1}^\\infty \\gamma^t r(s_t, a_t) \\mid \\pi, s_0 = s, a_0 = a \\right]\n",
    "$$\n",
    "第1項は，方策に依存した確率変数がないので，期待値を外します．\n",
    "$$\n",
    "Q^\\pi(s, a) = r(s, a) + \\mathbb{E}\\left[ \\sum_{t=1}^\\infty \\gamma^t r(s_t, a_t) \\mid \\pi, s_0 = s, a_0 = a \\right]\n",
    "$$\n",
    "第2項について，$\\gamma$ をくくり出し，時間インデックスを $k = t-1$ (すなわち $t=k+1$) と変更します．\n",
    "$$\n",
    "\\mathbb{E}\\left[ \\sum_{t=1}^\\infty \\gamma^t r(s_t, a_t) \\mid \\pi, s_0 = s, a_0 = a \\right] = \\mathbb{E}\\left[ \\gamma \\sum_{k=0}^\\infty \\gamma^k r(s_{k+1}, a_{k+1}) \\mid \\pi, s_0 = s, a_0 = a \\right]\n",
    "$$\n",
    "期待値の法則を適用します． $s_1 \\sim P(\\cdot|s, a)$で条件付けを行います．\n",
    "$$\n",
    "\\begin{aligned}\n",
    "& \\gamma \\mathbb{E}_{s_1 \\sim P(\\cdot|s, a)} \\left[ \\mathbb{E}\\left[ \\sum_{k=0}^\\infty \\gamma^k r(s_{k+1}, a_{k+1}) \\mid \\pi, s_0 = s, a_0 = a, S_1=s_1 \\right] \\mid \\pi, s_0=s, a_0=a \\right] \\\\\n",
    "= & \\gamma \\mathbb{E}_{s_1 \\sim P(\\cdot|s, a)} \\left[ \\mathbb{E}\\left[ \\sum_{k=0}^\\infty \\gamma^k r(s_{k+1}, a_{k+1}) \\mid \\pi, S_1=s_1 \\right] \\right] \\quad (\\text{マルコフ性と定常性より})\n",
    "\\end{aligned}\n",
    "$$\n",
    " $\\mathbb{E}\\left[ \\sum_{k=0}^\\infty \\gamma^k r(s_{k+1}, a_{k+1}) \\mid \\pi, S_1=s_1 \\right]$ は，$V^\\pi(s_1)$ の定義そのものです．\n",
    "$$\n",
    "\\mathbb{E}\\left[ \\sum_{k=0}^\\infty \\gamma^k r(s_{k+1}, a_{k+1}) \\mid \\pi, S_1=s_1 \\right] = V^\\pi(s_1)\n",
    "$$\n",
    "したがって，第2項は以下のように書き換えられます．\n",
    "$$\n",
    "\\gamma \\mathbb{E}_{s_1 \\sim P(\\cdot | s, a)} \\left[ V^\\pi(s_1) \\right]\n",
    "$$\n",
    "変数名を $s_1$ から $s'$ に変更すると，\n",
    "$$\n",
    "\\gamma \\mathbb{E}_{s' \\sim P(\\cdot | s, a)} \\left[ V^\\pi(s') \\right]\n",
    "$$\n",
    "これを元の式に代入すると，補題の結果が得られます．\n",
    "$$\n",
    "Q^\\pi(s, a) = r(s, a) + \\gamma \\mathbb{E}_{s' \\sim P(\\cdot | s, a)} \\left[ V^\\pi(s') \\right]\n",
    "$$\n",
    "****\n",
    "\n",
    "**系1.5**\n",
    "$$\n",
    "Q^\\pi=\\left(I-\\gamma P^\\pi\\right)^{-1} r\n",
    "$$\n",
    "\n",
    "**証明**\n",
    "三角不等式などを使って導出します．そんなに難しくないです．\n",
    "$$\n",
    "\\begin{aligned}\n",
    "\\left\\|\\left(I-\\gamma P^\\pi\\right) x\\right\\|_{\\infty} & =\\left\\|x-\\gamma P^\\pi x\\right\\|_{\\infty} \\\\\n",
    "& \\geq\\|x\\|_{\\infty}-\\gamma\\left\\|P^\\pi x\\right\\|_{\\infty} \\\\\n",
    "& \\geq\\|x\\|_{\\infty}-\\gamma\\|x\\|_{\\infty} \\\\\n",
    "& =(1-\\gamma)\\|x\\|_{\\infty}>0\n",
    "\\end{aligned}\n",
    "$$\n",
    "\n",
    "\n",
    "### 定理1.7：最適ベルマン方程式\n",
    "\n",
    "$\\Pi$ をすべての定常でない、確率論的方策の集合とします．以下を定義します．\n",
    "$$\n",
    "\\begin{aligned}\n",
    "V^{\\star}(s) & :=\\sup _{\\pi \\in \\Pi} V^\\pi(s) \\\\\n",
    "Q^{\\star}(s, a) & :=\\sup _{\\pi \\in \\Pi} Q^\\pi(s, a) .\n",
    "\\end{aligned}\n",
    "$$\n",
    "これらの値は割引無限MDPの場合，有限です．\n",
    "\n",
    "さらに，すべての $s \\in \\mathcal{S}$ と $a \\in \\mathcal{A}$ に対して、\n",
    "$$\n",
    "\\begin{aligned}\n",
    "V^\\pi(s) & =V^{\\star}(s) \\\\\n",
    "Q^\\pi(s, a) & =Q^{\\star}(s, a) .\n",
    "\\end{aligned}\n",
    "$$\n",
    "\n",
    "となる、定常かつ決定論的な方策：**最適方策** $\\pi$ が存在します．\n",
    "\n",
    "### 証明\n",
    "結構トリッキーなことをします．\n",
    "\n",
    "**TODO**\n",
    "\n",
    "\n",
    "\n",
    "\n"
   ]
  },
  {
   "cell_type": "markdown",
   "metadata": {},
   "source": [
    "## 実装編\n",
    "### ベクトル形式でベルマン方程式を書こう\n",
    "\n",
    "$$Q^\\pi=r+\\gamma P V^\\pi$$\n"
   ]
  },
  {
   "cell_type": "code",
   "execution_count": 46,
   "metadata": {},
   "outputs": [
    {
     "name": "stdout",
     "output_type": "stream",
     "text": [
      "[0.69882194 0.05180708 0.91843705 0.53129233 0.36030357 0.58303794]\n"
     ]
    }
   ],
   "source": [
    "import numpy as np \n",
    "\n",
    "S = 3\n",
    "A = 2\n",
    "\n",
    "\n",
    "r = np.zeros(S*A)\n",
    "P = np.zeros((S*A, S))\n",
    "gamma = 0.9\n",
    "pi = np.zeros(S*A)\n",
    "V_pi = np.zeros(S)\n",
    "\n",
    "\n",
    "r = np.random.rand(S*A)\n",
    "P = np.random.rand(S*A, S)\n",
    "P = P / P.sum(axis=1)[:, None]\n",
    "pi = np.random.rand(S*A)\n",
    "\n",
    "#ベルマン方程式\n",
    "\n",
    "Q_pi = r + gamma * np.dot(P, V_pi)\n",
    "\n",
    "print(Q_pi)"
   ]
  },
  {
   "cell_type": "markdown",
   "metadata": {},
   "source": [
    "$$\n",
    "\\begin{aligned}\n",
    "Q^\\pi=r+\\gamma P^\\pi Q^\\pi .\n",
    "\\end{aligned}\n",
    "$$\n",
    "\n",
    "$$\n",
    "P_{(s, a),\\left(s^{\\prime}, a^{\\prime}\\right)}^\\pi:=P\\left(s^{\\prime} \\mid s, a\\right) \\pi\\left(a^{\\prime} \\mid s^{\\prime}\\right) .\n",
    "$$\n",
    "$P^\\pi$は($S\\times A$,$S\\times A$)の行列です。"
   ]
  },
  {
   "cell_type": "code",
   "execution_count": 48,
   "metadata": {},
   "outputs": [
    {
     "name": "stdout",
     "output_type": "stream",
     "text": [
      "[3.92621042e+11 2.87654080e+11 3.81218096e+11 3.48802854e+11\n",
      " 2.48957676e+11 3.20759749e+11]\n",
      "(6, 6)\n",
      "(6,)\n"
     ]
    }
   ],
   "source": [
    "Q_pi = np.zeros(S*A)\n",
    "\n",
    "P_pi = np.zeros((S*A,S*A))\n",
    "for s in range(S):\n",
    "    for a in range(A):\n",
    "        for s_prime in range(S):\n",
    "            for a_prime in range(A):\n",
    "                P_pi[s*A+a, s_prime*A+a_prime] = P[s*A + a, s_prime] * pi[s_prime*A + a_prime]\n",
    "\n",
    "for _ in range(100):  \n",
    "    Q_pi = r + gamma * np.dot(P_pi, Q_pi)\n",
    "\n",
    "print(Q_pi)\n",
    "print(P_pi.shape)\n",
    "print(np.dot(P_pi, Q_pi).shape)"
   ]
  },
  {
   "cell_type": "markdown",
   "metadata": {},
   "source": []
  },
  {
   "cell_type": "markdown",
   "metadata": {},
   "source": [
    "\n",
    "**価値関数・行動価値関数関連**\n",
    "\n",
    "* **$Q^\\pi$の解析解 (Analytical Solution for Q):** $Q^\\pi=\\left(I-\\gamma P^\\pi\\right)^{-1} r$\n",
    "* 最適価値 (Optimal Value):\n",
    "    * $V^{\\star}(s)  :=\\sup _{\\pi \\in \\Pi} V^\\pi(s)$\n",
    "    * $Q^{\\star}(s, a)  :=\\sup _{\\pi \\in \\Pi} Q^\\pi(s, a)$\n",
    "* グリーディ方策 (Greedy Policy): $\\pi_Q(s):=\\operatorname{argmax}_{a \\in \\mathcal{A}} Q(s, a)$\n",
    "* **ベルマン最適作用素 (Bellman Optimality Operator):** $\\mathcal{T} Q:=r+\\gamma P V_Q$\n",
    "* アドバンテージ関数 (Advantage Function): $A^\\pi(s, a):=Q^\\pi(s, a)-V^\\pi(s)$\n",
    "* 状態訪問分布 (State Visitation Distribution): $d_{s_0}^\\pi(s)=(1-\\gamma) \\sum_{t=0}^{\\infty} \\gamma^t \\operatorname{Pr}^\\pi\\left(s_t=s \\mid s_0\\right)$ \n",
    "* $V_Q(s):=\\max _{a \\in \\mathcal{A}} Q(s, a)$\n",
    "\n",
    "**動的計画法**\n",
    "\n",
    "* **価値反復法 (Value Iteration):** $Q \\leftarrow \\mathcal{T} Q$\n",
    "* **方策反復法 (Policy Iteration):**\n",
    "    * 1. **方策評価 (Policy Evaluation):**  $Q^{\\pi_k}$ を計算\n",
    "    * 2. **方策改善 (Policy Improvement):** $\\pi_{k+1}=\\pi_{Q^{\\pi_k}}$ \n",
    "\n",
    "\n",
    "### 解析解を実装してみましょう\n",
    "\n"
   ]
  },
  {
   "cell_type": "code",
   "execution_count": 43,
   "metadata": {},
   "outputs": [
    {
     "name": "stdout",
     "output_type": "stream",
     "text": [
      "[-18.86074403 -15.98676975 -13.79090972  -9.82614407]\n",
      "(4, 4)\n",
      "(4,)\n"
     ]
    }
   ],
   "source": [
    "def compute_analytical_Q_pi():\n",
    "    return np.linalg.inv(np.eye(S*A)-gamma * P_pi) @ r\n",
    "\n",
    "Q_pi = compute_analytical_Q_pi()\n",
    "print(Q_pi)\n",
    "print(np.linalg.inv(np.eye(S*A)-gamma * P_pi).shape)\n",
    "print(r.shape)"
   ]
  },
  {
   "cell_type": "markdown",
   "metadata": {},
   "source": [
    "### ベルマン最適作用素を実装してみましょう"
   ]
  },
  {
   "cell_type": "code",
   "execution_count": 54,
   "metadata": {},
   "outputs": [
    {
     "name": "stdout",
     "output_type": "stream",
     "text": [
      "[3.23548049e+11 3.33957445e+11 3.33338632e+11 3.16347306e+11\n",
      " 3.20109464e+11 3.08516471e+11]\n"
     ]
    }
   ],
   "source": [
    "def V_Q(Q, s, A):\n",
    "    start_index = s * A\n",
    "    end_index = start_index + A\n",
    "    return np.max(Q[start_index:end_index])\n",
    "\n",
    "def bellman_optimality_operator():\n",
    "    V = np.array([V_Q(Q_pi, s, A) for s in range(S)]) \n",
    "    return r + gamma * np.dot(P, V)\n",
    "\n"
   ]
  },
  {
   "cell_type": "markdown",
   "metadata": {},
   "source": []
  },
  {
   "cell_type": "code",
   "execution_count": null,
   "metadata": {},
   "outputs": [],
   "source": []
  },
  {
   "cell_type": "markdown",
   "metadata": {},
   "source": []
  },
  {
   "cell_type": "code",
   "execution_count": null,
   "metadata": {},
   "outputs": [],
   "source": []
  },
  {
   "cell_type": "markdown",
   "metadata": {},
   "source": []
  }
 ],
 "metadata": {
  "kernelspec": {
   "display_name": "Python 3",
   "language": "python",
   "name": "python3"
  },
  "language_info": {
   "codemirror_mode": {
    "name": "ipython",
    "version": 3
   },
   "file_extension": ".py",
   "mimetype": "text/x-python",
   "name": "python",
   "nbconvert_exporter": "python",
   "pygments_lexer": "ipython3",
   "version": "3.11.9"
  }
 },
 "nbformat": 4,
 "nbformat_minor": 2
}
