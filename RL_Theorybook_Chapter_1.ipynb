{
 "cells": [
  {
   "cell_type": "markdown",
   "metadata": {},
   "source": [
    "### Reinforcement Learning: Theory and Algorithms\n",
    "第１章内のいくつかの事柄をpythonを使って実装します。\n",
    "* ベルマン方程式のベクトル化\n",
    "* 動的計画法\n",
    "の実装をメインで行っていきます。\n",
    "\n",
    "\n",
    "### ベクトル形式でベルマン方程式を書こう\n",
    "\n",
    "$$Q^\\pi=r+\\gamma P V^\\pi$$\n"
   ]
  },
  {
   "cell_type": "code",
   "execution_count": 46,
   "metadata": {},
   "outputs": [
    {
     "name": "stdout",
     "output_type": "stream",
     "text": [
      "[0.69882194 0.05180708 0.91843705 0.53129233 0.36030357 0.58303794]\n"
     ]
    }
   ],
   "source": [
    "import numpy as np \n",
    "\n",
    "S = 3\n",
    "A = 2\n",
    "\n",
    "\n",
    "r = np.zeros(S*A)\n",
    "P = np.zeros((S*A, S))\n",
    "gamma = 0.9\n",
    "pi = np.zeros(S*A)\n",
    "V_pi = np.zeros(S)\n",
    "\n",
    "\n",
    "r = np.random.rand(S*A)\n",
    "P = np.random.rand(S*A, S)\n",
    "P = P / P.sum(axis=1)[:, None]\n",
    "pi = np.random.rand(S*A)\n",
    "\n",
    "#ベルマン方程式\n",
    "\n",
    "Q_pi = r + gamma * np.dot(P, V_pi)\n",
    "\n",
    "print(Q_pi)"
   ]
  },
  {
   "cell_type": "markdown",
   "metadata": {},
   "source": [
    "$$\n",
    "\\begin{aligned}\n",
    "Q^\\pi=r+\\gamma P^\\pi Q^\\pi .\n",
    "\\end{aligned}\n",
    "$$\n",
    "\n",
    "$$\n",
    "P_{(s, a),\\left(s^{\\prime}, a^{\\prime}\\right)}^\\pi:=P\\left(s^{\\prime} \\mid s, a\\right) \\pi\\left(a^{\\prime} \\mid s^{\\prime}\\right) .\n",
    "$$\n",
    "$P^\\pi$は($S\\times A$,$S\\times A$)の行列です。"
   ]
  },
  {
   "cell_type": "code",
   "execution_count": 48,
   "metadata": {},
   "outputs": [
    {
     "name": "stdout",
     "output_type": "stream",
     "text": [
      "[3.92621042e+11 2.87654080e+11 3.81218096e+11 3.48802854e+11\n",
      " 2.48957676e+11 3.20759749e+11]\n",
      "(6, 6)\n",
      "(6,)\n"
     ]
    }
   ],
   "source": [
    "Q_pi = np.zeros(S*A)\n",
    "\n",
    "P_pi = np.zeros((S*A,S*A))\n",
    "for s in range(S):\n",
    "    for a in range(A):\n",
    "        for s_prime in range(S):\n",
    "            for a_prime in range(A):\n",
    "                P_pi[s*A+a, s_prime*A+a_prime] = P[s*A + a, s_prime] * pi[s_prime*A + a_prime]\n",
    "\n",
    "for _ in range(100):  \n",
    "    Q_pi = r + gamma * np.dot(P_pi, Q_pi)\n",
    "\n",
    "print(Q_pi)\n",
    "print(P_pi.shape)\n",
    "print(np.dot(P_pi, Q_pi).shape)"
   ]
  },
  {
   "cell_type": "markdown",
   "metadata": {},
   "source": []
  },
  {
   "cell_type": "markdown",
   "metadata": {},
   "source": [
    "\n",
    "**価値関数・行動価値関数関連**\n",
    "\n",
    "* **$Q^\\pi$の解析解 (Analytical Solution for Q):** $Q^\\pi=\\left(I-\\gamma P^\\pi\\right)^{-1} r$\n",
    "* 最適価値 (Optimal Value):\n",
    "    * $V^{\\star}(s)  :=\\sup _{\\pi \\in \\Pi} V^\\pi(s)$\n",
    "    * $Q^{\\star}(s, a)  :=\\sup _{\\pi \\in \\Pi} Q^\\pi(s, a)$\n",
    "* グリーディ方策 (Greedy Policy): $\\pi_Q(s):=\\operatorname{argmax}_{a \\in \\mathcal{A}} Q(s, a)$\n",
    "* **ベルマン最適作用素 (Bellman Optimality Operator):** $\\mathcal{T} Q:=r+\\gamma P V_Q$\n",
    "* アドバンテージ関数 (Advantage Function): $A^\\pi(s, a):=Q^\\pi(s, a)-V^\\pi(s)$\n",
    "* 状態訪問分布 (State Visitation Distribution): $d_{s_0}^\\pi(s)=(1-\\gamma) \\sum_{t=0}^{\\infty} \\gamma^t \\operatorname{Pr}^\\pi\\left(s_t=s \\mid s_0\\right)$ \n",
    "* $V_Q(s):=\\max _{a \\in \\mathcal{A}} Q(s, a)$\n",
    "\n",
    "**動的計画法**\n",
    "\n",
    "* **価値反復法 (Value Iteration):** $Q \\leftarrow \\mathcal{T} Q$\n",
    "* **方策反復法 (Policy Iteration):**\n",
    "    * 1. **方策評価 (Policy Evaluation):**  $Q^{\\pi_k}$ を計算\n",
    "    * 2. **方策改善 (Policy Improvement):** $\\pi_{k+1}=\\pi_{Q^{\\pi_k}}$ \n",
    "\n",
    "\n",
    "### 解析解を実装してみましょう\n",
    "\n"
   ]
  },
  {
   "cell_type": "code",
   "execution_count": 43,
   "metadata": {},
   "outputs": [
    {
     "name": "stdout",
     "output_type": "stream",
     "text": [
      "[-18.86074403 -15.98676975 -13.79090972  -9.82614407]\n",
      "(4, 4)\n",
      "(4,)\n"
     ]
    }
   ],
   "source": [
    "def compute_analytical_Q_pi():\n",
    "    return np.linalg.inv(np.eye(S*A)-gamma * P_pi) @ r\n",
    "\n",
    "Q_pi = compute_analytical_Q_pi()\n",
    "print(Q_pi)\n",
    "print(np.linalg.inv(np.eye(S*A)-gamma * P_pi).shape)\n",
    "print(r.shape)"
   ]
  },
  {
   "cell_type": "markdown",
   "metadata": {},
   "source": [
    "### ベルマン最適作用素を実装してみましょう"
   ]
  },
  {
   "cell_type": "code",
   "execution_count": 54,
   "metadata": {},
   "outputs": [
    {
     "name": "stdout",
     "output_type": "stream",
     "text": [
      "[3.23548049e+11 3.33957445e+11 3.33338632e+11 3.16347306e+11\n",
      " 3.20109464e+11 3.08516471e+11]\n"
     ]
    }
   ],
   "source": [
    "def V_Q(Q, s, A):\n",
    "    start_index = s * A\n",
    "    end_index = start_index + A\n",
    "    return np.max(Q[start_index:end_index])\n",
    "\n",
    "def bellman_optimality_operator():\n",
    "    V = np.array([V_Q(Q_pi, s, A) for s in range(S)]) \n",
    "    return r + gamma * np.dot(P, V)\n",
    "\n"
   ]
  },
  {
   "cell_type": "markdown",
   "metadata": {},
   "source": []
  },
  {
   "cell_type": "code",
   "execution_count": null,
   "metadata": {},
   "outputs": [],
   "source": []
  },
  {
   "cell_type": "markdown",
   "metadata": {},
   "source": []
  },
  {
   "cell_type": "code",
   "execution_count": null,
   "metadata": {},
   "outputs": [],
   "source": []
  },
  {
   "cell_type": "markdown",
   "metadata": {},
   "source": []
  }
 ],
 "metadata": {
  "kernelspec": {
   "display_name": "Python 3",
   "language": "python",
   "name": "python3"
  },
  "language_info": {
   "codemirror_mode": {
    "name": "ipython",
    "version": 3
   },
   "file_extension": ".py",
   "mimetype": "text/x-python",
   "name": "python",
   "nbconvert_exporter": "python",
   "pygments_lexer": "ipython3",
   "version": "3.11.9"
  }
 },
 "nbformat": 4,
 "nbformat_minor": 2
}
