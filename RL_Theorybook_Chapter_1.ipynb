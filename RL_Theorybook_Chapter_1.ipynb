{
 "cells": [
  {
   "cell_type": "markdown",
   "metadata": {},
   "source": [
    "### Reinforcement Learning: Theory and Algorithms\n",
    "第１章内のいくつかの事柄をpythonを使って実装します。\n",
    "* ベルマン方程式のベクトル化\n",
    "* 動的計画法\n",
    "の実装をメインで行っていきます。\n",
    "\n",
    "\n",
    "### ベクトル形式でベルマン方程式を書こう\n",
    "\n",
    "$$Q^\\pi=r+\\gamma P V^\\pi$$\n"
   ]
  },
  {
   "cell_type": "code",
   "execution_count": 85,
   "metadata": {},
   "outputs": [
    {
     "name": "stdout",
     "output_type": "stream",
     "text": [
      "[0.6877044  0.27560066 0.74823054 0.28040994]\n"
     ]
    }
   ],
   "source": [
    "import numpy as np \n",
    "\n",
    "S = 2\n",
    "A = 2\n",
    "\n",
    "\n",
    "r = np.zeros(S*A)\n",
    "P = np.zeros((S*A, S))\n",
    "gamma = 0.9\n",
    "pi = np.zeros(S*A)\n",
    "V_pi = np.zeros(S)\n",
    "\n",
    "\n",
    "r = np.random.rand(S*A)\n",
    "P = np.random.rand(S*A, S)\n",
    "P = P / P.sum(axis=1)[:, None]\n",
    "\n",
    "#ベルマン方程式\n",
    "Q_pi = r + gamma * np.dot(P, V_pi)\n",
    "\n",
    "print(Q_pi)"
   ]
  },
  {
   "cell_type": "markdown",
   "metadata": {},
   "source": [
    "$$\n",
    "\\begin{aligned}\n",
    "Q^\\pi=r+\\gamma P^\\pi Q^\\pi .\n",
    "\\end{aligned}\n",
    "$$\n",
    "\n",
    "$$\n",
    "P_{(s, a),\\left(s^{\\prime}, a^{\\prime}\\right)}^\\pi:=P\\left(s^{\\prime} \\mid s, a\\right) \\pi\\left(a^{\\prime} \\mid s^{\\prime}\\right) .\n",
    "$$"
   ]
  },
  {
   "cell_type": "code",
   "execution_count": 86,
   "metadata": {},
   "outputs": [
    {
     "name": "stdout",
     "output_type": "stream",
     "text": [
      "[[0.6877044  0.27560066 0.74823054 0.28040994]]\n"
     ]
    }
   ],
   "source": [
    "P_pi = np.dot(pi,P)\n",
    "Q_pi = Q_pi.reshape(-1,1)\n",
    "P_pi = P_pi.reshape(-1,1)\n",
    "Q_pi = P_pi.T\n",
    "Q_pi2 = r + gamma * np.dot(Q_pi,P_pi)\n",
    "\n",
    "print(Q_pi2)"
   ]
  },
  {
   "cell_type": "markdown",
   "metadata": {},
   "source": [
    "\n",
    "**価値関数・行動価値関数関連**\n",
    "\n",
    "* **$Q^\\pi$の解析解 (Analytical Solution for Q):** $Q^\\pi=\\left(I-\\gamma P^\\pi\\right)^{-1} r$\n",
    "* 最適価値 (Optimal Value):\n",
    "    * $V^{\\star}(s)  :=\\sup _{\\pi \\in \\Pi} V^\\pi(s)$\n",
    "    * $Q^{\\star}(s, a)  :=\\sup _{\\pi \\in \\Pi} Q^\\pi(s, a)$\n",
    "* グリーディ方策 (Greedy Policy): $\\pi_Q(s):=\\operatorname{argmax}_{a \\in \\mathcal{A}} Q(s, a)$\n",
    "* **ベルマン最適作用素 (Bellman Optimality Operator):** $\\mathcal{T} Q:=r+\\gamma P V_Q$\n",
    "* アドバンテージ関数 (Advantage Function): $A^\\pi(s, a):=Q^\\pi(s, a)-V^\\pi(s)$\n",
    "* 状態訪問分布 (State Visitation Distribution): $d_{s_0}^\\pi(s)=(1-\\gamma) \\sum_{t=0}^{\\infty} \\gamma^t \\operatorname{Pr}^\\pi\\left(s_t=s \\mid s_0\\right)$ \n",
    "\n",
    "**動的計画法**\n",
    "\n",
    "* **価値反復法 (Value Iteration):** $Q \\leftarrow \\mathcal{T} Q$\n",
    "* **方策反復法 (Policy Iteration):**\n",
    "    * 1. **方策評価 (Policy Evaluation):**  $Q^{\\pi_k}$ を計算\n",
    "    * 2. **方策改善 (Policy Improvement):** $\\pi_{k+1}=\\pi_{Q^{\\pi_k}}$ \n",
    "\n",
    "\n",
    "### 解析解、動的計画法を実装してみましょう\n",
    "\n"
   ]
  },
  {
   "cell_type": "code",
   "execution_count": null,
   "metadata": {},
   "outputs": [],
   "source": []
  },
  {
   "cell_type": "markdown",
   "metadata": {},
   "source": []
  },
  {
   "cell_type": "code",
   "execution_count": null,
   "metadata": {},
   "outputs": [],
   "source": []
  },
  {
   "cell_type": "markdown",
   "metadata": {},
   "source": []
  },
  {
   "cell_type": "code",
   "execution_count": null,
   "metadata": {},
   "outputs": [],
   "source": []
  },
  {
   "cell_type": "markdown",
   "metadata": {},
   "source": []
  },
  {
   "cell_type": "code",
   "execution_count": null,
   "metadata": {},
   "outputs": [],
   "source": []
  },
  {
   "cell_type": "markdown",
   "metadata": {},
   "source": []
  }
 ],
 "metadata": {
  "kernelspec": {
   "display_name": "Python 3",
   "language": "python",
   "name": "python3"
  },
  "language_info": {
   "codemirror_mode": {
    "name": "ipython",
    "version": 3
   },
   "file_extension": ".py",
   "mimetype": "text/x-python",
   "name": "python",
   "nbconvert_exporter": "python",
   "pygments_lexer": "ipython3",
   "version": "3.10.12"
  }
 },
 "nbformat": 4,
 "nbformat_minor": 2
}
