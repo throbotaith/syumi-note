{
 "cells": [
  {
   "cell_type": "markdown",
   "metadata": {},
   "source": [
    "#### Supervised Learning\n",
    "確率変数$X \\in \\mathcal{R^d}$を自明な情報として観測し、そこからラベル$Y$を予測するシステムです。例として画像の分類が挙げられます。\n",
    "\n",
    "**定義**\n",
    "アルゴリズム$\\mathcal{A}$は学習データのセット$\\mathcal{D}_{n}$を入力して、予測モデル$f(\\hat{w}, \\cdot)$のパラメータ$\\hat{w}=\\mathcal{A}\\left(\\mathcal{D}_{n}\\right) \\in \\Omega$を出力するものです。\n",
    "\n",
    "\n",
    "\n",
    "**技術的な質問**\n",
    "* 例えばトレーニングデータでのアルゴリズムの誤差が10％の場合、テストデータでの誤差はどれくらいですか？\n",
    "* 最適なモデルにできるだけ近いようなモデルを学習できるか？\n",
    "* 小さなテスト誤差でかつ計算の効率が良いモデルはあるか？\n",
    "\n",
    "#### Online Learning\n",
    "履歴付きのデータから次タイムステップのデータなどを予測します。例として株の予測があげられます。\n",
    "\n",
    "**技術的な質問**\n",
    "* 全てのtについて最適なモデルを作ることはできるか？\n",
    "\n",
    "\n"
   ]
  },
  {
   "cell_type": "markdown",
   "metadata": {},
   "source": []
  }
 ],
 "metadata": {
  "language_info": {
   "name": "python"
  }
 },
 "nbformat": 4,
 "nbformat_minor": 2
}
