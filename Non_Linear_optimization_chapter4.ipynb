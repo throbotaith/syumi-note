{
 "cells": [
  {
   "cell_type": "markdown",
   "id": "28be30f9",
   "metadata": {},
   "source": [
    "## 双対理論\n",
    "双対理論は、主問題に対して双対問題という新しい問題を考える理論体系です。以下まとめている途中ですが、あまり良くないかもなので改変します。\n",
    "\n",
    "**主問題**\n",
    "主問題というのは、我々がもともと最適化したい問題です。ここでは制約付き最適化問題を考えます。\n",
    "１行目は主の目的関数、二行目は制約関数です。\n",
    "$$\n",
    "\\begin{aligned}\n",
    "& \\text{min}_{x\\in \\mathbb{R^n}}f(x)\\\\\n",
    "& \\text{s.t.}g_{i}(x) \\le 0 \\quad (i=1,\\dots,m)\n",
    "\\end{aligned}\n",
    "$$\n",
    "**ラグランジュ関数**\n",
    "制約関数をすべて目的関数に足します。\n",
    "$$\n",
    "\\begin{aligned}\n",
    "\\mathcal{L}(x,\\lambda)=f(x)+\\sum_{i}\\lambda_{i}g_{i}(x)\\dots(\\lambda \\ge 0)\n",
    "\\end{aligned}\n",
    "$$\n",
    "* 疑問1：ラグランジュ関数の最適値と主問題の目的関数の最適値は一致するのか？\n",
    "\t* このあとの強双対性で出てきます。\n",
    "\n",
    "**鞍点**\n",
    "\n",
    "$\\mathcal{L}$は2つの変数を用いて最適化を行います。ここでは$x$に関して、つまり$x$を動かして$\\mathcal{L}$を最大化する問題と、$\\lambda$に関して$\\mathcal{L}$を最小化する事を考えます。鞍点とは、以下が任意の$x$、$\\lambda$を満たす($x^*,\\lambda^*$)のペアのことをいいます。\n",
    "$$\n",
    "\\mathcal{L}(x^*,\\lambda) \\le \\mathcal{L}(x^*,\\lambda^*) \\le \\mathcal{L}(x,\\lambda^*)\n",
    "$$\n",
    "\n",
    "\n",
    "\n"
   ]
  },
  {
   "cell_type": "markdown",
   "id": "7dd0cb9b",
   "metadata": {},
   "source": []
  }
 ],
 "metadata": {
  "language_info": {
   "name": "python"
  }
 },
 "nbformat": 4,
 "nbformat_minor": 5
}
