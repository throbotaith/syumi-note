{
 "cells": [
  {
   "cell_type": "markdown",
   "id": "6c251afc",
   "metadata": {},
   "source": [
    "# このページについて\n",
    "双対理論に関する勉強をまとめたページです．ページは手書きの物がありますが，適宜MD形式に変形します．\n",
    "\n",
    "## ラグランジアン\n",
    "\n",
    "![](https://cdn.mathpix.com/snip/images/XxGiqj_EOdz9XnC7Oc7O33o7xKFRkaGzPe4wmORrRpA.original.fullsize.png)\n",
    "\n",
    "## ラグランジュ双対関数の定義とその性質\n",
    "\n",
    "![](https://cdn.mathpix.com/snip/images/uzlEBshU6HfYEAYOOzDQ9qlLFudLDs6Lv86H7h8QXF0.original.fullsize.png)\n",
    "\n",
    "## ラグランジュ双対関数の可視化\n",
    "\n",
    "![](https://cdn.mathpix.com/snip/images/zqVih8p0_e5aOxIvACkTcZY0DchhNJEQl2MPKU4ItYI.original.fullsize.png)\n",
    "\n",
    "## ラグランジュ双対の例\n",
    "\n",
    "![](https://cdn.mathpix.com/snip/images/pQ_es5ZHzr4XmfbzrzUzAfgWX5H7TdY5ZnZXm5-HFJE.original.fullsize.png)\n",
    "\n",
    "## ラグランジュ双対関数と共役関数\n",
    "### 共役関数の定義とその可視化\n",
    "\n",
    "![](https://cdn.mathpix.com/snip/images/9TvwlG8vW4oLpY_ttEGOBls68y-ZGljLPOVCMVoiGBY.original.fullsize.png)\n",
    "\n"
   ]
  },
  {
   "cell_type": "markdown",
   "id": "dea6c54f",
   "metadata": {},
   "source": [
    "### GIFによる可視化\n",
    "![](/imgs/nonconvex_conjugate_animation.gif)"
   ]
  },
  {
   "cell_type": "markdown",
   "id": "0fbc1579",
   "metadata": {},
   "source": [
    "## ラグランジュ双対関数と共役関数はつながっている\n",
    "\n",
    "![](https://cdn.mathpix.com/snip/images/f_a1qU8aT_o7iCgn_2ewtWrXJLkGgJqDkqawWunjK8U.original.thumbnail.png)\n",
    "\n",
    "## ラグランジュ双対問題\n",
    "\n",
    "![](https://cdn.mathpix.com/snip/images/kTlJNnpNst27oxjGkZuqhEoEl2hZRVHDfBOpoSIbtO8.original.fullsize.png)\n",
    "\n",
    "## 弱双対性と強双対性"
   ]
  }
 ],
 "metadata": {
  "language_info": {
   "name": "python"
  }
 },
 "nbformat": 4,
 "nbformat_minor": 5
}
