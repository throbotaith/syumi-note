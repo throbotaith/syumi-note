{
 "cells": [
  {
   "cell_type": "markdown",
   "id": "4329cc0b",
   "metadata": {},
   "source": [
    "# モーメンタムはSGDを改善させる\n",
    "ここでは、[モーメンタムはSGDを改善させる](https://arxiv.org/abs/2002.03305)という論文を読んだまとめを書こうと思います。\n",
    "\n",
    "## 概要\n",
    "二次微分まで可能な目的関数に対して、モーメンタムを追加した勾配法を用いることでサンプル効率が良くなりました。\n",
    "\n",
    "## 準備\n",
    "* 最小化をするための目的関数\n",
    "$$\n",
    "F(\\vec{w})=\\underset{\\xi \\sim \\mathcal{D}}{\\mathbb{E}}[f(\\vec{w}, \\xi)]\n",
    "$$\n",
    "* SGDにおけるパラメータ更新\n",
    "$$\n",
    "\\vec{w}_{t+1}=\\vec{w}_t-\\eta_t \\nabla f\\left(\\vec{w}_t, \\xi_t\\right)\n",
    "$$\n",
    "## SGDを効率的に解く方法\n",
    "パラメータ更新における学習率を適応的に変更させて効率的に最適化問題を解くということを考えます。AdaGradと言われる手法です。これに**モーメンタム**という概念を追加したのがAdamという有名なアルゴリズムです。モーメンタムを用いたパラメータ更新は以下のように書きます。\n",
    "$$\n",
    "\\begin{aligned}\n",
    "\\vec{m}_t & =\\beta \\vec{m}_{t-1}+(1-\\beta) \\nabla f\\left(\\vec{w}_t, \\xi_t\\right) \\\\\n",
    "\\vec{w}_{t+1} & =\\vec{w}_t-\\eta_t \\vec{m}_t\n",
    "\\end{aligned}\n",
    "$$\n",
    "モーメンタムは過去の勾配の移動平均を用いて計算されます。これがどうやら良い動きをしているらしいです。\n",
    "\n",
    "その次に用いられる工夫としてモーメンタムを正規化したパラメータ更新があります。\n",
    "$$\n",
    "\\begin{aligned}\n",
    "\\vec{m}_t & =\\beta \\vec{m}_{t-1}+(1-\\beta) \\nabla f\\left(\\vec{w}_t, \\xi_t\\right) \\\\\n",
    "\\vec{w}_{t+1} & =\\vec{w}_t-\\eta_t \\frac{\\vec{m}_t}{\\left\\|\\vec{m}_t\\right\\|}\n",
    "\\end{aligned}\n",
    "$$\n",
    "直感としては、勾配の大きさを直接用いてパラメータを更新するより、勾配の方向を与えてパラメータ更新をしたほうが最適化をする際に有用な情報を与えるからと言われています。これらの\"らしい\"を理論的に深堀した論文がこの論文です。\n",
    "\n",
    "## 定理1\n",
    "$$\n",
    "\\frac{1}{T} \\sum_{t=1}^T \\mathbb{E}\\left[\\left\\|\\nabla F\\left(\\vec{w}_t\\right)\\right\\|\\right] \\leq \\frac{29 \\sqrt{R L}}{\\sqrt{T}}+\\frac{21 \\sqrt{\\sigma}(R L)^{1 / 4}}{T^{1 / 4}}+\\frac{8 \\sigma}{\\sqrt{R L T}}\n",
    "$$\n",
    "### 解説\n",
    "勾配の値の上界を与えています。\n",
    "\n",
    "\n",
    "\n",
    "\n",
    "\n",
    "\n",
    "\n",
    "\n",
    "\n"
   ]
  }
 ],
 "metadata": {
  "language_info": {
   "name": "python"
  }
 },
 "nbformat": 4,
 "nbformat_minor": 5
}
