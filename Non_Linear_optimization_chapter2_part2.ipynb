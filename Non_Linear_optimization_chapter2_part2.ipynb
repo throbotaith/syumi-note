{
 "cells": [
  {
   "cell_type": "markdown",
   "metadata": {},
   "source": [
    "### 凸関数とその性質\n",
    "\n",
    "\n",
    "\n",
    "グラフ、エピグラフ、定義域を以下のように定義します。\n",
    "\n",
    "$$\n",
    "\\text { graph } f=\\left\\{(\\boldsymbol{x}, \\beta)^{\\top} \\in \\mathbb{R}^{n+1} \\mid \\beta=f(\\boldsymbol{x})\\right\\}\n",
    "$$\n",
    "$$\n",
    "\\text { epi } f=\\left\\{(\\boldsymbol{x}, \\beta)^{\\top} \\in \\mathbb{R}^{n+1} \\mid \\beta \\geqq f(\\boldsymbol{x})\\right\\}\n",
    "$$\n",
    "$$\n",
    "\\operatorname{dom} f=\\left\\{x \\in \\mathbb{R}^n \\mid f(x)<+\\infty\\right\\}\n",
    "$$\n",
    "\n",
    "エピグラフが凸集合になる$f: \\mathbb{R}^n \\rightarrow[-\\infty,+\\infty]$を**凸関数**といいます。$f: \\mathbb{R}^n \\rightarrow(-\\infty,+\\infty]$ かつ $\\operatorname{dom} f \\neq \\emptyset$ であるとき，**真凸関数**と言います。\n",
    "* 真凸関数について、$f$のマイナス方面の定義域が開なのは、最小値が発散しないために必要な条件です。多分。\n",
    "#### イェンセンの不等式と凸関数になるための必要十分条件\n",
    "* 凸関数が成立⇔イェンセンの不等式が成立\n",
    "関数 $f: \\mathbb{R}^n \\rightarrow(-\\infty,+\\infty]$ が凸関数であるための必要十分条件 は，任意の自然数 $m$ と任意の $x^1, \\ldots, x^m \\in \\mathbb{R}^n$ および $\\sum_{i=1}^m \\alpha_i=1$ を満たす任意の $\\alpha_i \\geqq 0(i=1, \\ldots, m)$ に対して次式が成立することでです。\n",
    "\n",
    "$$\n",
    "\n",
    "f\\left(\\sum_{i=1}^m \\alpha_i x^i\\right) \\leqq \\sum_{i=1}^m \\alpha_i f\\left(x^i\\right)\n",
    "\n",
    "$$\n",
    "* この不等式をイェンセンの不等式という。証明でよく使います。"
   ]
  },
  {
   "cell_type": "markdown",
   "metadata": {},
   "source": [
    "#### 狭義凸関数\n",
    "* $f((1-\\alpha) x+\\alpha \\boldsymbol{y})<(1-\\alpha) f(\\boldsymbol{x})+\\alpha f(\\boldsymbol{y})$が$\\boldsymbol{x}, \\boldsymbol{y} \\in \\operatorname{dom} f$ と $\\alpha \\in(0,1)$に対して成り立つとき、狭義凸関数といいます。\n",
    "* これだけだと良く分からないので、可視化してみましょう。これは、任意の端点同士の直線よりもグラフが常に下にあるということを示しています。"
   ]
  },
  {
   "cell_type": "code",
   "execution_count": null,
   "metadata": {
    "vscode": {
     "languageId": "plaintext"
    }
   },
   "outputs": [],
   "source": [
    "import matplotlib.pyplot as plt\n",
    "import numpy as np\n",
    "\n",
    "# x values\n",
    "x = np.linspace(-2, 2, 400)\n",
    "\n",
    "# Define a strictly convex function\n",
    "f = lambda x: np.exp(x)\n",
    "\n",
    "# Pick two distinct points x1 and x2\n",
    "x1, x2 = -1.0, 1.0\n",
    "y1, y2 = f(x1), f(x2)\n",
    "\n",
    "# Convex combination\n",
    "alpha = 0.5\n",
    "x_alpha = (1 - alpha) * x1 + alpha * x2\n",
    "y_alpha = f(x_alpha)\n",
    "y_line = (1 - alpha) * y1 + alpha * y2  # linear interpolation\n",
    "\n",
    "# Plot the function\n",
    "plt.figure(figsize=(8, 6))\n",
    "plt.plot(x, f(x), label=r\"$f(x) = e^x$\", linewidth=2)\n",
    "plt.plot([x1, x2], [y1, y2], 'k--', label=\"Secant line\", linewidth=1.5)\n",
    "plt.scatter([x1, x2], [y1, y2], color='black')\n",
    "plt.scatter([x_alpha], [y_alpha], color='red', label=r\"$f((1-\\alpha)x_1 + \\alpha x_2)$\")\n",
    "plt.scatter([x_alpha], [y_line], color='blue', label=r\"$(1-\\alpha)f(x_1) + \\alpha f(x_2)$\")\n",
    "\n",
    "# Annotation\n",
    "plt.annotate(\"function value\", (x_alpha, y_alpha), textcoords=\"offset points\", xytext=(-60,10), ha='center', color='red')\n",
    "plt.annotate(\"line\", (x_alpha, y_line), textcoords=\"offset points\", xytext=(0,-15), ha='center', color='blue')\n",
    "\n",
    "plt.title(\"Strict Convexity Visualization\", fontsize=14)\n",
    "plt.xlabel(\"x\")\n",
    "plt.ylabel(\"f(x)\")\n",
    "plt.legend()\n",
    "plt.grid(True)\n",
    "plt.tight_layout()\n",
    "plt.show()\n"
   ]
  },
  {
   "cell_type": "markdown",
   "metadata": {},
   "source": [
    "#### 強凸関数(一様凸関数)\n",
    "* $f((1-\\alpha) \\boldsymbol{x}+\\alpha \\boldsymbol{y}) \\leqq(1-\\alpha) f(\\boldsymbol{x})+\\alpha f(\\boldsymbol{y})-\\frac{1}{2} \\sigma \\alpha(1-\\alpha)\\|\\boldsymbol{x}-\\boldsymbol{y}\\|^2$がすべての$\\boldsymbol{x}, \\boldsymbol{y} \\in \\operatorname{dom} f$ と $\\alpha \\in[0,1]$に対して成立するとそれは強凸関数\n",
    "* なぜ？\n",
    "\t* $\\frac{1}{2} \\sigma \\alpha(1-\\alpha)\\|\\boldsymbol{x}-\\boldsymbol{y}\\|^2$　が意味するものとは何？\n",
    "\t* 可視化して考えてみましょう。\n",
    "\t*  $\\frac{1}{2} \\sigma \\alpha(1-\\alpha)\\|\\boldsymbol{x}-\\boldsymbol{y}\\|^2$は、**任意の線形補間(グラフを横切る線分)からグラフの底までの距離**と考えればよく、強凸関数は必ずこの距離が0以上(超過？)で存在しています。\n",
    "* 強凸関数は狭義凸関数でです。\n",
    "* 適切であるかはわからないが、強凸関数$\\subset$狭義凸関数$\\subset$凸関数かな？"
   ]
  },
  {
   "cell_type": "code",
   "execution_count": null,
   "metadata": {
    "vscode": {
     "languageId": "plaintext"
    }
   },
   "outputs": [],
   "source": [
    "import numpy as np\n",
    "import matplotlib.pyplot as plt\n",
    "from ipywidgets import interact, FloatSlider\n",
    "\n",
    "def strongly_convex_f(x, sigma=1.0):\n",
    "    return (1 + 0.5 * sigma) * x**2\n",
    "\n",
    "def linear_upper_bound(x, x0, x1, f0, f1):\n",
    "    return ((x - x0) * f1 + (x1 - x) * f0) / (x1 - x0)\n",
    "\n",
    "def plot_strong_convexity_fixed_axes(sigma):\n",
    "    x0, x1 = -1.5, 1.5\n",
    "    alpha = 0.5\n",
    "    x = np.linspace(-2, 2, 400)\n",
    "    x_mid = (1 - alpha) * x0 + alpha * x1\n",
    "\n",
    "    f = strongly_convex_f(x, sigma)\n",
    "    f0 = strongly_convex_f(x0, sigma)\n",
    "    f1 = strongly_convex_f(x1, sigma)\n",
    "    f_mid = strongly_convex_f(x_mid, sigma)\n",
    "    interp = linear_upper_bound(x_mid, x0, x1, f0, f1)\n",
    "\n",
    "    fig, ax = plt.subplots(figsize=(8, 6))\n",
    "    ax.plot(x, f, label=rf'strongly convex ($\\sigma={sigma}$)', color='red')\n",
    "    ax.plot([x0, x1], [f0, f1], 'r--', label='linear interpolation')\n",
    "    ax.plot(x_mid, f_mid, 'ro', label='f(midpoint)')\n",
    "    ax.plot(x_mid, interp, 'r^', label='interpolated value')\n",
    "    ax.vlines(x_mid, f_mid, interp, color='purple', linestyles='dotted', label='gap')\n",
    "    ax.text(x_mid + 0.1, (f_mid + interp) / 2, r'$\\frac{1}{2}\\sigma\\alpha(1-\\alpha)\\|x - y\\|^2$', fontsize=12, color='purple')\n",
    "\n",
    "    ax.set_title('Strong convexity with adjustable σ')\n",
    "    ax.set_xlabel('x')\n",
    "    ax.set_ylabel('f(x)')\n",
    "    ax.set_xlim(-2.2, 2.2)\n",
    "    ax.set_ylim(-0.5, 7.5)\n",
    "    ax.grid(True)\n",
    "    ax.legend()\n",
    "    plt.show()\n",
    "\n",
    "interact(plot_strong_convexity_fixed_axes,\n",
    "         sigma=FloatSlider(value=1.0, min=0.0, max=5.0, step=0.1, description='σ'));\n"
   ]
  },
  {
   "cell_type": "markdown",
   "metadata": {},
   "source": [
    "#### 凸関数と超平面\n",
    "* 凸集合の任意の内点に対しては、支持超平面が存在したはずなので、凸関数のエピグラフに対しても支持超平面が存在しています。\n",
    "\n",
    "$f: \\mathbb{R}^n \\rightarrow(-\\infty,+\\infty]$ を定義域 $\\operatorname{dom} f$ が開凸集合であるよ うな関数とします。 $f$ が $\\operatorname{dom} f$ において微分可能であるとき，$f$ が（狭義）凸関数であるための必要十分条件は，$x \\neq y$ であるような任意の $\\boldsymbol{x}, \\boldsymbol{y} \\in \\operatorname{dom} f$ に対してつぎの不等式が成り立つことです．\n",
    "\n",
    "$$\n",
    "f(y)-f(x) \\geqq(>)\\langle\\nabla f(x), y-x\\rangle\n",
    "$$\n",
    "#### 凸性とヘッセ行列\n",
    "* 関数の定義域内の各点で、それを入力とする関数の二次勾配、つまりヘッセ行列が半正定値なら、関数は凸関数です。\n",
    "\n",
    "\n"
   ]
  }
 ],
 "metadata": {
  "language_info": {
   "name": "python"
  }
 },
 "nbformat": 4,
 "nbformat_minor": 2
}
