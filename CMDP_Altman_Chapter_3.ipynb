{
 "cells": [
  {
   "cell_type": "markdown",
   "metadata": {},
   "source": []
  },
  {
   "cell_type": "markdown",
   "metadata": {},
   "source": [
    "### Occupancy measureとPrimal LP\n"
   ]
  },
  {
   "cell_type": "markdown",
   "metadata": {},
   "source": [
    "* Occupancy measureとは、ある方策および初期状態において、各状態行動ペアがどれだけその方策によって訪れられたかを示す指標です。\n",
    "\n",
    "* 初期状態分布$\\beta$、方策 $u$、状態行動ペア $(x, a)$ ,$X_t$ と $A_t$ は時刻 $t$ における状態と行動、$P_{\\beta}^{u}$ は初期分布 $\\beta$ と方策 $u$ のもとでの確率測度に対して、Occupancy measure $f_{\\alpha}(\\beta, u; x, a)$ は次のように定義されます。\n",
    "\n",
    "$$\n",
    "f_{\\alpha}(\\beta, u; x, a) \\stackrel{\\text { def }}{=}(1-\\alpha) \\sum_{t=1}^{\\infty} \\alpha^{t-1} P_{\\beta}^{u}\\left(X_{t}=x, A_{x}=a\\right), \\quad x \\in \\mathbf{X}, a \\in \\mathrm{~A}(x)\n",
    "$$"
   ]
  },
  {
   "cell_type": "code",
   "execution_count": 15,
   "metadata": {},
   "outputs": [
    {
     "data": {
      "text/plain": [
       "0.10000010010101"
      ]
     },
     "execution_count": 15,
     "metadata": {},
     "output_type": "execute_result"
    }
   ],
   "source": [
    "import numpy as np\n",
    "\n",
    "alpha = 0.1\n",
    "S =2\n",
    "A =2\n",
    "transition = np.zeros((S,A,S))\n",
    "transition[0,0,0] = 0.9\n",
    "transition[0,0,1] = 0.1\n",
    "transition[0,1,0] = 0.1\n",
    "transition[0,1,1] = 0.9\n",
    "transition[1,0,0] = 0.9\n",
    "transition[1,0,1] = 0.1\n",
    "transition[1,1,0] = 0.1\n",
    "transition[1,1,1] = 0.9\n",
    "#random s,a trajectory\n",
    "s = np.random.randint(0,S)\n",
    "a = np.random.randint(0,A)\n",
    "trajectory = [] \n",
    "for i in range(100):\n",
    "    trajectory.append((s,a))\n",
    "    s = np.random.choice(S,p=transition[s,a,:])\n",
    "    a = np.random.randint(0,A)\n",
    "\n",
    "def occupancy_measure(trajectory,s,a,alpha):\n",
    "    sum = 0\n",
    "    for i in range(len(trajectory)):\n",
    "        sum += alpha**(len(trajectory)-i)* (trajectory[i][0] == s and trajectory[i][1] == a)\n",
    "    return sum\n",
    "\n",
    "occupancy_measure(trajectory,1,0,alpha)"
   ]
  },
  {
   "cell_type": "markdown",
   "metadata": {},
   "source": [
    "#### Occupancy measureからPrimal LPへ\n",
    "* Occupancy measureを用いてコスト関数を表現することで、のちの線形計画問題を解くことができます。この説ではOccupancy measureをなぜ用いるのか？もちいたことでなにがうれしいのかを説明した定理を説明していきます。\n",
    "\n",
    "##### 完全性(定理3.1)\n",
    "* 完全性とは、任意のすべての何かに対して、その部分集合のみからそのすべてを表現できるといったニュアンスです。具体的に行きましょう。任意の方策のクラス $\\bar{U}$ に対して、$\\mathbf{L}_{\\bar{U}}^{\\alpha}(\\beta)=\\bigcup_{u \\in \\bar{U}} f_{\\alpha}(\\beta, u)$ と定義します。任意の方策サブクラスに対応するOccupancy measureの集合ですね。\n",
    "\n",
    "* 方策クラス$\\bar{U}$が、割引MDPに対して完全であるとは、$\\mathbf{L}^{\\alpha}(\\beta)=\\mathbf{L} \\frac{\\alpha}{U}(\\beta)$ が成立するということです。左辺はすべての方策クラスに対応するOccupancy measureであり、右辺は方策サブクラスに対応するOccupancy measureです。等式でつながっていますが、集合間の等式ですので、要素から要素数すべて等しいという意味になります。$\\bar{U}$に属する方策のみですべての方策にたいするOccupancy measureを表現できるというわけです。これは次の定理につながります。\n",
    "\n",
    "**定理3.1(定常方策の集合は完全)**\n",
    "\n",
    "任意の方策 $u$ に対して、同じ$f_{\\alpha}(\\beta, u)$ を生成する定常方策 $w$ が存在する。\n",
    "\n",
    "* 定常方策クラスに対応したOccupancy measureは任意の方策クラスと同等であるわけです。つまり定常方策についてOccupancy measureに関連した問題を解くことは任意の方策クラスについて考えることと同じというわけです。\n",
    "\n",
    "**TODO proof**\n",
    "\n",
    "**定理3.2(Occupancy measureの性質)**\n",
    "\n",
    "* $\\mathbf{L}_{U_{S}}^{\\alpha}(\\beta)$ は **閉じたポリトープ** である。\n",
    "\n",
    "\n",
    "\n"
   ]
  },
  {
   "cell_type": "markdown",
   "metadata": {},
   "source": []
  }
 ],
 "metadata": {
  "kernelspec": {
   "display_name": "Python 3",
   "language": "python",
   "name": "python3"
  },
  "language_info": {
   "codemirror_mode": {
    "name": "ipython",
    "version": 3
   },
   "file_extension": ".py",
   "mimetype": "text/x-python",
   "name": "python",
   "nbconvert_exporter": "python",
   "pygments_lexer": "ipython3",
   "version": "3.11.9"
  }
 },
 "nbformat": 4,
 "nbformat_minor": 2
}
