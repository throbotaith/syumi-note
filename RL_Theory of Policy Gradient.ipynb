{
 "cells": [
  {
   "cell_type": "markdown",
   "metadata": {},
   "source": [
    "## On the Theory of Policy Gradient Methods: Optimality, Approximation, and Distribution Shift\n"
   ]
  },
  {
   "cell_type": "markdown",
   "metadata": {},
   "source": [
    "## イントロ\n",
    "### 方策勾配法って理論的な収束とか研究しつくされているのか？\n",
    "実際に理論系の研究は行われています。その多くが、収束性を滑らかさで仮定し、最適性を目的関数の停留点収束で示しているだけです。しかし、収束速度や方策を近似する関数の性質から発生する問題(直接パラメータ化とソフトマックスパラメータ化ではどのように近似誤差が発生するかなど)、有限の試行における方策勾配法の挙動といった疑問がまだ残っています。\n",
    "\n",
    "### Preliminaly\n",
    "\n",
    "\n",
    "### 直接パラメータ化と勾配支配、射影勾配法\n",
    "方策を直接パラメータ化するとは、以下のようなパラメータ化を持つ方策を得ることを意味します。目的は、方策の勾配を求め、それを最小化するパラメータを求めることです。具体的には、方策は行動空間上の確率単体(確率分布の集合)とみなすことができるので、確率単体の勾配上昇法をもちいて\n",
    "\n",
    "\n",
    "\n",
    "\n"
   ]
  }
 ],
 "metadata": {
  "language_info": {
   "name": "python"
  }
 },
 "nbformat": 4,
 "nbformat_minor": 2
}
