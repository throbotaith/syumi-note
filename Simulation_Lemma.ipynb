{
 "cells": [
  {
   "cell_type": "code",
   "execution_count": 2,
   "metadata": {},
   "outputs": [],
   "source": [
    "import jax\n",
    "import jax.numpy as jnp\n",
    "import numpy as np\n",
    "from jax import random\n",
    "from jax import grad, jit, vmap\n",
    "from jax.scipy.special import logsumexp"
   ]
  },
  {
   "cell_type": "markdown",
   "metadata": {},
   "source": [
    "### An Optimal Tightness Bound for the Simulation Lemma\n",
    "https://arxiv.org/abs/2406.16249\n",
    "\n",
    "#### シミュレーション補題とは\n",
    "\n",
    "割引無限MDP$\\mathcal{M}=(\\mathcal{S}, \\mathcal{A}, R, T, \\gamma)$を考えます。\n",
    "\n",
    "* $\\mathcal{S}$:状態空間\n",
    "* $\\mathcal{A}$:行動空間\n",
    "* $\\gamma \\in[0,1]$ : 割引率\n",
    "* $T\\left(s^{\\prime} \\mid s, a\\right)$ : 状態遷移確率\n",
    "* $R(s, a) \\in[0,1]$ : 報酬関数\n",
    "* $\\pi(a \\mid s)$ : 方策\n",
    "\n",
    "シミュレーション補題は2つの異なるMDPで同じ方策を実行したときのそれぞれのMDPの$V$の差をバウンドすることを目的としています。\n",
    "\n",
    "$R$と$T$のみが異なるMDP $\\hat{\\mathcal{M}}=(\\mathcal{S}, \\mathcal{A}, \\hat{R}, \\hat{T}, \\gamma)$ を定義すると、\n",
    "\n",
    "\n",
    "**シミュレーション補題**\n",
    "\n",
    "$$\n",
    "\\forall s, \\pi:\\left|V_{s}^{\\pi}-\\hat{V}_{s}^{\\pi}\\right| \\leq \\frac{\\epsilon_{R}}{1-\\gamma}+\\frac{\\gamma \\epsilon_{T}}{2(1-\\gamma)^{2}}\n",
    "$$\n",
    "\n",
    "が成立します。なお、$\\hat{V}^{\\pi}$は$\\hat{\\mathcal{M}}$における状態価値関数です。\n",
    "\n",
    "\n",
    "\n",
    "\n",
    "\n",
    "\n",
    "\n",
    "\n",
    "\n",
    "* なぜ$V$の推定誤差に関するバウンドを考えるのか？\n",
    "\n",
    "    強化学習における目的が、$V(s)^\\pi$を最大にする$\\pi$を求めることだからです。\n",
    "\n",
    "\n"
   ]
  },
  {
   "cell_type": "markdown",
   "metadata": {},
   "source": []
  }
 ],
 "metadata": {
  "kernelspec": {
   "display_name": "Python 3",
   "language": "python",
   "name": "python3"
  },
  "language_info": {
   "codemirror_mode": {
    "name": "ipython",
    "version": 3
   },
   "file_extension": ".py",
   "mimetype": "text/x-python",
   "name": "python",
   "nbconvert_exporter": "python",
   "pygments_lexer": "ipython3",
   "version": "3.11.9"
  }
 },
 "nbformat": 4,
 "nbformat_minor": 2
}
