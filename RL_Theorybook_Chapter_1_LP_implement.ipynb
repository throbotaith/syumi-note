{
 "cells": [
  {
   "cell_type": "markdown",
   "metadata": {},
   "source": [
    "### 線形計画法を用いたMDPにおけるプランニング\n",
    "\n",
    "* MDPの完全なモデルを分かっている上でのプランニングを考えます。\n",
    "* 割引無限MDPでは、価値反復と方策反復の計算量は$\\gamma$に依存するため、厳密には多項式時間で解くことができません。\n",
    "  * 多項式時間で解けるというのはアルゴリズムにおけるMDPの入力サイズ($S$、$A$)にのみ多項式的に依存した計算量であることと同義です。\n",
    "* 線形計画法(以降LP)を用いて完全に多項式時間のアルゴリズムを示したいというのが今回のモチベーションです。\n"
   ]
  },
  {
   "cell_type": "markdown",
   "metadata": {},
   "source": [
    "#### Primal LP\n",
    "$$\n",
    "min \\sum_s\\mu(s)V(s)\\\\\n",
    "\n",
    "sub V(s) \\geq r(s,a) + \\gamma\\sum_s P(s'|s,a)V(s')\n",
    "$$\n",
    "\n",
    "* これを解いてみましょう"
   ]
  },
  {
   "cell_type": "code",
   "execution_count": 9,
   "metadata": {},
   "outputs": [
    {
     "name": "stdout",
     "output_type": "stream",
     "text": [
      "[0.58818094 0.47200235]\n"
     ]
    }
   ],
   "source": [
    "import numpy as np\n",
    "S = 2\n",
    "A = 3\n",
    "V = np.zeros(S)\n",
    "#uniform array dimention is S\n",
    "mu = np.full(S,1/S)\n",
    "r = np.random.rand(S*A)\n",
    "gamma = 0.9\n",
    "P = np.random.rand(S*A, S)\n",
    "P = P / P.sum(axis=1)[:, None]\n",
    "\n",
    "# primaly LP \n",
    "from scipy.optimize import linprog\n",
    "\n",
    "c = mu #係数行列\n",
    "\n",
    "A_ub = np.zeros((S*A, S))  \n",
    "b_ub = np.zeros(S*A)\n",
    "\n",
    "for s in range(S):\n",
    "    for a in range(A):\n",
    "        idx = s*A + a\n",
    "        A_ub[idx,s] = -1\n",
    "        b_ub[idx] = -r[idx]\n",
    "        b_ub[idx] -= gamma * np.dot(P[idx], V) \n",
    "\n",
    "res = linprog(c, A_ub=A_ub, b_ub=b_ub,bounds=(None, None))\n",
    "\n",
    "V_optimal = res.x\n",
    "\n",
    "print(V_optimal)\n"
   ]
  },
  {
   "cell_type": "markdown",
   "metadata": {},
   "source": [
    "#### 双対LPによる解法\n",
    "\n",
    "いかのような最適化問題を考えます。\n",
    "$$\n",
    "\\begin{aligned}\n",
    "\\max & \\frac{1}{1-\\gamma} \\sum_{s, a} d_\\mu(s, a) r(s, a) \\\\\n",
    "\\text { subject to } & d \\in \\mathcal{K}_\\mu\n",
    "\\end{aligned}\n",
    "$$\n",
    "\n",
    "なお、\n",
    "\n",
    "$$\n",
    "\\mathcal{K}_\\mu:=\\left\\{d \\mid d \\geq 0 \\text { and } \\sum_a d(s, a)=(1-\\gamma) \\mu(s)+\\gamma \\sum_{s^{\\prime}, a^{\\prime}} P\\left(s \\mid s^{\\prime}, a^{\\prime}\\right) d\\left(s^{\\prime}, a^{\\prime}\\right)\\right\\}\n",
    "$$\n",
    "\n",
    "$$\n",
    "d_{s_0}^\\pi(s, a):=(1-\\gamma) \\sum_{t=0}^{\\infty} \\gamma^t \\operatorname{Pr}^\\pi\\left(s_t=s, a_t=a \\mid s_0\\right)\n",
    "$$\n",
    "\n",
    "とします。"
   ]
  },
  {
   "cell_type": "code",
   "execution_count": 14,
   "metadata": {},
   "outputs": [
    {
     "name": "stdout",
     "output_type": "stream",
     "text": [
      "Optimization failed\n",
      "Status: 2\n",
      "Message: The problem is infeasible. (HiGHS Status 8: model_status is Infeasible; primal_status is Basic)\n"
     ]
    }
   ],
   "source": [
    "#計算がむずいのでPを書き換えます。\n",
    "P = np.random.rand(S,A,S)\n",
    "P = P / P.sum(axis = 2, keepdims = True)\n",
    "\n",
    "d_dimention = S*A\n",
    "A_eq = np.zeros((S, d_dimention))\n",
    "b_eq = np.zeros(S)\n",
    "\n",
    "for s in range(S):\n",
    "    for a in range(A):\n",
    "        index = s*A + a\n",
    "\n",
    "        A_eq[s, index] = 1\n",
    "\n",
    "        for s_ in range(S):\n",
    "            for a_ in range(A):\n",
    "                index_ = s_*A + a_\n",
    "                A_eq[s, index_] -= gamma * P[s, a_, s_]\n",
    "    b_eq[s] = (1 - gamma) * mu[s]\n",
    "\n",
    "c = -r.flatten() / (1 - gamma) \n",
    "bounds = [(0, None) for _ in range(d_dimention)]\n",
    "\n",
    "\n",
    "result = linprog(c, A_eq=A_eq, b_eq=b_eq, bounds=bounds, method='highs')\n",
    "\n",
    "\n",
    "if result.success:\n",
    "    d_star = result.x.reshape(S, A)\n",
    "    \n",
    "    pi_star = np.zeros((S, A))\n",
    "    for s in range(S):\n",
    "        pi_star[s, :] = d_star[s, :] / d_star[s, :].sum()\n",
    "\n",
    "    print(\"Optimal State-Action Visit Distribution (d*):\")\n",
    "    print(d_star)\n",
    "\n",
    "    print(\"\\nOptimal Policy (π*):\")\n",
    "    print(pi_star)\n",
    "else:\n",
    "    print(\"Optimization failed\")\n",
    "    print(\"Status:\", result.status)\n",
    "    print(\"Message:\", result.message)"
   ]
  }
 ],
 "metadata": {
  "kernelspec": {
   "display_name": "Python 3",
   "language": "python",
   "name": "python3"
  },
  "language_info": {
   "codemirror_mode": {
    "name": "ipython",
    "version": 3
   },
   "file_extension": ".py",
   "mimetype": "text/x-python",
   "name": "python",
   "nbconvert_exporter": "python",
   "pygments_lexer": "ipython3",
   "version": "3.11.9"
  }
 },
 "nbformat": 4,
 "nbformat_minor": 2
}
