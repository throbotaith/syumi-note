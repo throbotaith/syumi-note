{
 "cells": [
  {
   "cell_type": "markdown",
   "id": "f0db3498",
   "metadata": {},
   "source": [
    "# 凹MDPにおける分散低減付きのPrimal Dual法\n",
    "\n",
    "# イントロ\n",
    "この研究は目的関数と制約関数の両方をOccupany measureを通して凹になるような場合について、そこにおける方策勾配法の研究をしています。さらに、分散低減をつけることで勾配推定を使って解くようなオンラインの設定にも、Optimality Gapが低くなるような手法を提案しました。"
   ]
  }
 ],
 "metadata": {
  "language_info": {
   "name": "python"
  }
 },
 "nbformat": 4,
 "nbformat_minor": 5
}
