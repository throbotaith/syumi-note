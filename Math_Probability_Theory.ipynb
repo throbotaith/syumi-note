{
 "cells": [
  {
   "cell_type": "markdown",
   "id": "2f0b394c",
   "metadata": {},
   "source": [
    "# このページについて\n",
    "バンディット本第2章の測度論的確率論における練習問題の回答を適宜アップします．\n",
    "* できるだけわかりやすく書こうと心がけました．\n",
    "* GPTとの対話を何回も行っていますが，間違っているかもしれないのでご了承ください．"
   ]
  },
  {
   "cell_type": "markdown",
   "id": "4dfe1ee5",
   "metadata": {},
   "source": [
    "# Ex2.1\n",
    "## 問題\n",
    "\n",
    "\n",
    "## 解答\n",
    "\n",
    "![](https://cdn.mathpix.com/snip/images/k6uMq9dDU-tE3Z1QJf1gPoreyiqiCZvb-KZMcCeHtu4.original.thumbnail.png)\n",
    "\n",
    "![](https://cdn.mathpix.com/snip/images/wgJgyv2UvXV5ABz1afW_iIk9lrujjRzKLJbI72OdGyI.original.fullsize.png)\n",
    "\n",
    "\n"
   ]
  },
  {
   "cell_type": "markdown",
   "id": "3af365a5",
   "metadata": {},
   "source": [
    "# Ex2.2\n",
    "## 問題\n",
    "\n",
    "\n",
    "## 解答\n",
    "\n",
    "![](https://cdn.mathpix.com/snip/images/1xHkKOAc0bRoRsj4wKjEKbWdsFQOFVTwl2bepIfUa3A.original.fullsize.png)"
   ]
  }
 ],
 "metadata": {
  "language_info": {
   "name": "python"
  }
 },
 "nbformat": 4,
 "nbformat_minor": 5
}
