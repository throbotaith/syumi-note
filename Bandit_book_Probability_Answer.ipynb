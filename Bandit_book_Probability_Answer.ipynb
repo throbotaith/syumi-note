{
 "cells": [
  {
   "cell_type": "markdown",
   "id": "26d71d36",
   "metadata": {},
   "source": [
    "# このページについて\n",
    "バンディット本第2章の演習問題の解答を貼っていこうと思います．"
   ]
  },
  {
   "cell_type": "markdown",
   "id": "93807824",
   "metadata": {},
   "source": [
    "## Ex2.1\n",
    "## 問題\n",
    "$f$ が $\\mathcal{F}/\\mathcal{G}$-可測で、$g$ が $\\mathcal{G}/\\mathcal{H}$-可測であるとき、それらの合成 $g \\circ f$ が $\\mathcal{F}/\\mathcal{H}$-可測であることを示せ。\n",
    "\n",
    "## 解答\n",
    "\n",
    "![](https://cdn.mathpix.com/snip/images/k6uMq9dDU-tE3Z1QJf1gPoreyiqiCZvb-KZMcCeHtu4.original.fullsize.png)\n",
    "\n",
    "![](https://cdn.mathpix.com/snip/images/wgJgyv2UvXV5ABz1afW_iIk9lrujjRzKLJbI72OdGyI.original.fullsize.png)\n"
   ]
  },
  {
   "cell_type": "markdown",
   "id": "43404085",
   "metadata": {},
   "source": [
    "## Ex2.2\n",
    "## 問題\n",
    "$X_1, \\ldots, X_n$ が $(\\Omega, \\mathcal{F})$ 上の確率変数であるとする。$(X_1, \\ldots, X_n)$ が確率ベクトルであることを証明せよ。\n",
    "\n",
    "## 解答\n",
    "![](https://cdn.mathpix.com/snip/images/gKdXQesvI8pmj2OdWgc7YZ6OfJWyK0BW7hphj3tpDdg.original.fullsize.png)\n",
    "\n",
    "![](https://cdn.mathpix.com/snip/images/X162N35evuap5NKAsUzEFch2B1_gI8C3SRr_P8SMldM.original.fullsize.png)\n",
    "\n",
    "![](https://cdn.mathpix.com/snip/images/Tb_WSNymYsd0V3hBBBNb9hlnomt1Xbx4bbPuWeQN2-A.original.fullsize.png)"
   ]
  },
  {
   "cell_type": "markdown",
   "id": "edff91e2",
   "metadata": {},
   "source": [
    "## Ex2.x\n",
    "## 問題\n",
    "\n",
    "## 解答"
   ]
  }
 ],
 "metadata": {
  "language_info": {
   "name": "python"
  }
 },
 "nbformat": 4,
 "nbformat_minor": 5
}
