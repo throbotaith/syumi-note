{
 "cells": [
  {
   "cell_type": "markdown",
   "metadata": {},
   "source": [
    "## はじめに\n",
    "確率不等式をまとめていきます。どういった条件で使えるかなど実用を考慮したまとめです。作成に当たっては、トン・ジャン先生の[機械学習のための数理解析](https://tongzhang-ml.org/)を大いに参考にさせていただきました。先生、ありがとうございます。\n",
    "\n",
    "\n",
    "## 確率不等式\n",
    "\n",
    "### 変数定義\n",
    "$X_1, \\ldots, X_n$ ：独立同分布の確率変数\n",
    "$\\mu=\\mathbb{E}\\left[X_i\\right]$ ：共通の期待値\n",
    "$\\bar{X}_n=\\frac{1}{n} \\sum_{i=1}^n X_i:$ 標本平均\n",
    "### マルコフの不等式\n",
    "\n",
    "任意の$h(x) \\geq 0$と任意の集合$S \\subset \\mathbb{R}$に対して、以下の不等式が成り立ちます。\n",
    "$$\n",
    "\\operatorname{Pr}\\left(\\bar{X}_n \\in S\\right) \\leq \\frac{\\mathbb{E}\\left[h\\left(\\bar{X}_n\\right)\\right]}{\\inf _{x \\in S} h(x)}\n",
    "$$\n",
    "#### 証明\n",
    "\n",
    "$\\mathbb{E}\\left[h\\left(\\bar{X}_n\\right)\\right]=\\mathbb{E}\\left[h\\left(\\bar{X}_n\\right) \\cdot 1_{\\bar{X}_n \\in S}\\right]+\\mathbb{E}\\left[h\\left(\\bar{X}_n\\right) \\cdot 1_{\\bar{X}_n \\notin S}\\right] \\geq \\mathbb{E}\\left[h\\left(\\bar{X}_n\\right) \\cdot 1_{\\bar{X}_n \\in S}\\right]$\n",
    "\n",
    "$\\bar{X}_n \\in S$のとき、$h\\left(\\bar{X}_n\\right)$は自明に、$\\inf _{x \\in S} h(x)$より大きいので、上右辺以下の式が導けます。\n",
    "\n",
    "$\\mathbb{E}\\left[h\\left(\\bar{X}_n\\right) \\cdot 1_{\\bar{X}_n \\in S}\\right] \\geq \\inf _{x \\in S} h(x) \\cdot \\mathbb{E}\\left[1_{\\bar{X}_n \\in S}\\right]=\\inf _{x \\in S} h(x) \\cdot \\operatorname{Pr}\\left(\\bar{X}_n \\in S\\right)$\n",
    "\n",
    "ここで、第2項について、期待値は確率変数の実現値と確率の内積ですが、実現値は$\\bar{X}_n \\in S$のみ1なので、それに対応する確率$\\operatorname{Pr}\\left(\\bar{X}_n \\in S\\right)$がでてきます。\n",
    "\n",
    "よって、\n",
    "\n",
    "$\\mathbb{E}\\left[h\\left(\\bar{X}_n\\right)\\right] \\geq \\inf _{x \\in S} h(x) \\cdot \\operatorname{Pr}\\left(\\bar{X}_n \\in S\\right)$\n",
    "\n",
    "式変形をして、\n",
    "\n",
    "$\\operatorname{Pr}\\left(\\bar{X}_n \\in S\\right) \\leq \\frac{\\mathbb{E}\\left[h\\left(\\bar{X}_n\\right)\\right]}{\\inf _{x \\in S} h(x)}$\n",
    "\n",
    "となります。\n",
    "\n",
    "#### 具体例\n",
    "\n",
    "一般的な式ではわかりにくいので、$S=[a, \\infty)$ ，つまり「平均が $a$ 以上になる確率」とし、$h(x)=x$としましょう。このとき、マルコフの不等式は、\n",
    "$$\n",
    "\\operatorname{Pr}\\left(\\bar{X}_n \\geq a\\right) \\leq \\frac{\\mathbb{E}\\left[\\bar{X}_n\\right]}{a}\n",
    "$$\n",
    "となり、よく知られたマルコフの不等式の形になります。\n",
    "\n",
    "\n",
    "###"
   ]
  },
  {
   "cell_type": "markdown",
   "metadata": {},
   "source": []
  }
 ],
 "metadata": {
  "language_info": {
   "name": "python"
  }
 },
 "nbformat": 4,
 "nbformat_minor": 2
}
