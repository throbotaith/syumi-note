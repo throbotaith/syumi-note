{
 "cells": [
  {
   "cell_type": "markdown",
   "id": "30f9ec25",
   "metadata": {},
   "source": [
    "# このページについて\n",
    "隠れ凸性の論文をまとめたいと思います．\n",
    "\n",
    "![](https://cdn.mathpix.com/snip/images/xCAncOyauIhBT3AKuuibC2r1yG-MBjJBWh8d3DvRfys.original.fullsize.png)\n",
    "\n",
    "![](https://cdn.mathpix.com/snip/images/XcRuGHd-JLCRZ4uBWxWI9Y-Fyhe7vh2WiFtoonSFVW4.original.fullsize.png)\n",
    "\n",
    "![](https://cdn.mathpix.com/snip/images/ZWFiiE-_iANLLdCre4OUtRepvXF1sCSaGAoxiSYzep4.original.fullsize.png)"
"\n",
    "![](https://cdn.mathpix.com/snip/images/uGlYGbG326IyV0zk_k8kDAu5GDOAK8IFCX-3l-N009k.original.fullsize.png)"

]
  }
 ],
 "metadata": {
  "language_info": {
   "name": "python"
  }
 },
 "nbformat": 4,
 "nbformat_minor": 5
}
