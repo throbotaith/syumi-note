{
 "cells": [
  {
   "cell_type": "markdown",
   "id": "9915bb4b",
   "metadata": {},
   "source": [
    "# このページについて\n",
    "方策勾配法について，初心者にも理解できるように方策勾配を自力で導出できることを目指します．\n",
    "\n",
    "# 状態価値関数を導出しよう\n",
    "![](https://cdn.mathpix.com/snip/images/GruWiznw4OMBsepl1UPjclubvXvpnVXnZ9ba7Zgc5l4.original.fullsize.png)\n",
    "\n",
    "![](https://cdn.mathpix.com/snip/images/YEfyVspQ7JDp3e5Yu718gnYN2Jfxgafpi30iUiTb4cM.original.fullsize.png)\n",
    "\n",
    "# 方策勾配を導出しよう"
   ]
  }
 ],
 "metadata": {
  "language_info": {
   "name": "python"
  }
 },
 "nbformat": 4,
 "nbformat_minor": 5
}
