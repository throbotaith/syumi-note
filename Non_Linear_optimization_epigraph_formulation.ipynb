{
 "cells": [
  {
   "cell_type": "markdown",
   "id": "1da3c087",
   "metadata": {},
   "source": [
    "# このページについて\n",
    "制約付き最適化問題における，エピグラフ形式の定式化に関する[チュートリアル論文](https://optimization-online.org/wp-content/uploads/2024/10/Epigraph_reformulation-1.pdf)の勉強ノートです．\n",
    "\n",
    "# 準備\n",
    "集合$X \\subseteq \\mathbb{R}^n$を考えます．これは$n$次元の実数空間の部分集合です．後で出てきますが，関数への入力集合を意味します．関数を定義しましょう．関数とは$X$から$\\mathbb{R}$への写像です．\n",
    "$$\n",
    "f: X \\rightarrow \\mathbb{R}\n",
    "$$\n",
    "次にエピグラフを定義します．エピグラフとは，$X$の要素$x$と$f(x) \\ge \\alpha$を満たすような$\\alpha$のセットの集合です．これを任意の$x \\in X$と先ほどの条件を満たす任意の$\\alpha$について直積，つまりすべての組み合わせを考慮します．つまり，以下のように定式化します．\n",
    "$$\n",
    "\\operatorname{epi}(f, X)=\\{(x, \\alpha) \\in X \\times \\mathbb{R} \\mid f(x) \\leq \\alpha\\}\n",
    "$$\n",
    "図で示すとわかりやすいです．定義域について，ある関数及びそのうえ側の領域をエピグラフと言います．\n",
    "\n",
    "![](https://cdn.mathpix.com/cropped/2025_06_30_41eda0645951dbb67142g-02.jpg?height=443&width=749&top_left_y=441&top_left_x=651)\n",
    "図1：エピグラフとは\n",
    "\n",
    "\n"
   ]
  }
 ],
 "metadata": {
  "language_info": {
   "name": "python"
  }
 },
 "nbformat": 4,
 "nbformat_minor": 5
}
