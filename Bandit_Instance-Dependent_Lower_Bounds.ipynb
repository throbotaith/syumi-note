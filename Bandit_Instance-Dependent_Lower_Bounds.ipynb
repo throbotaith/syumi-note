{
 "cells": [
  {
   "cell_type": "markdown",
   "id": "1bb982da",
   "metadata": {},
   "source": [
    "# このページについて\n",
    "ちょっと前に書いた，Bandit本16章のInstance-Dependent Lower Boundsにおける定理16.2の証明を載せます．\n",
    "![](https://cdn.mathpix.com/snip/images/Ef7p84lB7mDLcgvrnD9OdLwL9XQJ17_e_exLOLJ8ACs.original.thumbnail.png)\n",
    "## バンディット問題の定義\n",
    "* バンディットインスタンス:$\\nu = (P_1, \\dots, P_k)$\n",
    "    *$k$：アームの個数\n",
    "    アーム$i$を引いたときの報酬は$P_i$に従う\n",
    "* $\\mathcal{E}$：クラス\n",
    "* $\\pi$：方策\n",
    "* $T_i(n)$：$n$回の試行のうち，$i$が選択された回数\n",
    "* $\\mu_i(\\nu)$：$i$の$P_i$の平均報酬\n",
    "* $\\mu^*(\\nu)$：最適アームの期待報酬\n",
    "* $\\Delta_i(\\nu)$:$\\Delta_i(\\nu) = \\mu^*(\\nu) - \\mu_i(\\nu)$\n",
    "* $R_n(\\pi, \\nu)$：リグレット\n",
    "$$\n",
    "R_n(\\pi, \\nu) = n \\mu^*(\\nu) - \\mathbb{E}_{\\nu\\pi}\\left[\\sum_{t=1}^n X_t\\right] = \\sum_{i=1}^k \\Delta_i(\\nu) \\mathbb{E}_{\\nu\\pi}[T_i(n)]\n",
    "$$\n",
    "* $d_{\\text{inf}}(P, \\mu^*, \\mathcal{M})$:\n",
    "    *  $\\mathcal{M}$：分布の集合\n",
    "    *  $P \\in \\mathcal{M}$：$\\mu(P)$が$\\mu^*$より小さい分布．\n",
    "$$\n",
    "d_{\\mathrm{inf}}\\left(P, \\mu^*, \\mathcal{M}\\right)=\\inf _{P^{\\prime} \\in \\mathcal{M}}\\left\\{\\mathrm{D}\\left(P, P^{\\prime}\\right)：\\mu\\left(P^{\\prime}\\right)>\\mu^*\\right\\}\n",
    "$$\n",
    "\n",
    "## 定義 16.1(整合性,consistency)\n",
    "バンディットのクラス$\\mathcal{E}$における方策$\\pi$がconsistentであるとは，全ての$\\nu \\in \\mathcal{E}$および任意の$p > 0$に対して，以下が成り立つことをいいます．\n",
    "\n",
    "$$\\lim _{n \\rightarrow \\infty} \\frac{R_n(\\pi, \\nu)}{n^p}=0$$\n",
    "\n",
    "* クラス$\\mathcal{E}$上のconsistentな方策の集合を$\\Pi_{\\text {cons }}(\\mathcal{E})$と表記\n",
    "\n",
    "## 定理 16.2 \n",
    "$\\mathcal{E} = \\mathcal{M}_1 \\times \\dots \\times \\mathcal{M}_k$をunstructuredな確率的バンディットのクラスとし，$\\pi \\in \\Pi_{\\text {cons }}(\\mathcal{E})$を$\\mathcal{E}$上の任意のコンシステントな方策とします．\n",
    "全ての$\\nu = (P_1, \\dots, P_k) \\in \\mathcal{E}$に対して，以下が成り立ちます．\n",
    "\n",
    "$$\\liminf _{n \\rightarrow \\infty} \\frac{R_n(\\pi, \\nu)}{\\log (n)} \\geq c^*(\\nu, \\mathcal{E})=\\sum_{i：\\Delta_i(\\nu)>0} \\frac{\\Delta_i(\\nu)}{d_{\\inf }\\left(P_i, \\mu^*(\\nu), \\mathcal{M}_i\\right)}$$\n",
    "\n",
    "## 定理16.2の証明\n",
    "![](https://cdn.mathpix.com/snip/images/8OCBhM7JwZ8Wq5JGPrrcUTbupmgRrlsslTTpyKOTgiI.original.fullsize.png)\n",
    "\n",
    "![](https://cdn.mathpix.com/snip/images/tQ7CMOo1II_4ROH2WVGQR-CpAPPLRh8Ls8io8Ceq2aU.original.fullsize.png)\n",
    "\n",
    "![](https://cdn.mathpix.com/snip/images/AunvLNVbq75eS1NC3TJnCFt1DyoZmUlYsUr__drxz8U.original.fullsize.png)\n",
    "\n",
    "![](https://cdn.mathpix.com/snip/images/APw3yxafqRz4kL7zV2dRBh8luHWct7avZf1avHx8i9g.original.fullsize.png)\n",
    "\n",
    "![](https://cdn.mathpix.com/snip/images/F6wsH3aJrlX7HVtjFgARwu4AMq97zUp2jjgoxZHs5N0.original.fullsize.png)\n",
    "\n",
    "![](https://cdn.mathpix.com/snip/images/Z4MagbDq1C80x6h0qZh1y-7BxlSAENgABcwEuiF5Ulw.original.fullsize.png)\n",
    "\n",
    "\n"
   ]
  }
 ],
 "metadata": {
  "language_info": {
   "name": "python"
  }
 },
 "nbformat": 4,
 "nbformat_minor": 5
}
