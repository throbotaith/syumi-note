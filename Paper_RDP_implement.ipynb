{
 "cells": [
  {
   "cell_type": "markdown",
   "metadata": {},
   "source": [
    "### ロバスト動的計画法の実装\n",
    "* pythonで書いていきます〜\n",
    "\n"
   ]
  },
  {
   "cell_type": "code",
   "execution_count": 3,
   "metadata": {},
   "outputs": [],
   "source": [
    "import numpy as np\n",
    "import matplotlib.pyplot as plt\n"
   ]
  },
  {
   "cell_type": "markdown",
   "metadata": {},
   "source": [
    "### ロバストVIアルゴリズム\n",
    "\n",
    "**入力:**  \n",
    "$V \\in \\mathcal{V}, \\epsilon > 0$\n",
    "\n",
    "**出力:**  \n",
    "$\\tilde{V}$ ただし、$\\|\\tilde{V} - V^{*}\\| \\leq \\frac{\\epsilon}{2}$\n",
    "\n",
    "- 各 $s \\in \\mathcal{S}$ に対して、$\\tilde{V}(s)$ を次のように設定する：\n",
    "  $$\n",
    "  \\tilde{V}(s) = \\sup_{a \\in \\mathcal{A}(s)} \\left\\{ \\inf_{p \\in \\mathcal{P}(s, a)} \\mathbf{E}^{p} \\left[ r(r, a, s') + \\lambda V(s') \\right] \\right\\}\n",
    "  $$\n",
    "\n",
    "- while $\\left( \\|\\tilde{V} - V\\| \\geq \\frac{(1 - \\lambda)}{\\lambda} \\cdot \\epsilon \\right)$ do:\n",
    "\n",
    "  - $V = \\tilde{V}$\n",
    "\n",
    "  - $\\forall s \\in \\mathcal{S}$, 次のように $\\tilde{V}(s)$ を設定する：\n",
    "    $$\n",
    "    \\tilde{V}(s) = \\sup_{a \\in \\mathcal{A}(s)} \\left\\{ \\inf_{p \\in \\mathcal{P}(s, a)} \\mathbf{E}^{p} \\left[ r(r, a, s') + \\lambda V(s') \\right] \\right\\}\n",
    "    $$\n",
    "\n",
    "- end while\n",
    "\n",
    "**戻り値:**  \n",
    "$\\tilde{V}$\n"
   ]
  },
  {
   "cell_type": "code",
   "execution_count": 4,
   "metadata": {},
   "outputs": [],
   "source": [
    "# Uncertainty setの定義\n",
    "\n",
    "\n",
    "\n"
   ]
  },
  {
   "cell_type": "markdown",
   "metadata": {},
   "source": [
    "### ロバスト方策反復アルゴリズム\n",
    "\n",
    "**入力:**  \n",
    "決定規則 $d_{0}$、$\\epsilon > 0$\n",
    "\n",
    "**出力:**  \n",
    "$\\epsilon$-最適な決定規則 $d^{*}$\n",
    "\n",
    "1. $n = 0$ および $\\pi_{n} = (d_{n}, d_{n}, \\ldots)$ を設定する。式 (31) を解いて $V^{\\pi_{n}}$ を計算する。$\\tilde{V} \\leftarrow L_{\\mathcal{D}} V^{\\pi_{n}}$ とし、$\\mathcal{D} = \\prod_{s \\in \\mathcal{S}} \\mathcal{A}(s)$ を設定する。\n",
    "\n",
    "2. 各 $s \\in \\mathcal{S}$ に対して、次の条件を満たす $d_{n+1}(s)$ を選択する：\n",
    "   $$\n",
    "   d_{n+1}(s) \\in \\left\\{ a \\in \\mathcal{A}(s) : \\inf_{p \\in \\mathcal{P}(s, a)} \\mathbf{E}^{p} \\left[ r(s, a, s') + \\lambda V(s') \\right] \\geq \\tilde{V}(s) - \\epsilon \\right\\}\n",
    "   $$\n",
    "   可能であれば、$d_{n+1}(s) = d_{n}(s)$ を設定する。\n",
    "\n",
    "3. while $d_{n+1} \\neq d_{n}$ do:\n",
    "   - $n = n + 1$ とする。\n",
    "   - 式 (31) を解いて $V^{\\pi_{n}}$ を計算する。$\\tilde{V} \\leftarrow L_{\\mathcal{D}} V^{\\pi_{n}}$ とし、$\\mathcal{D} = \\prod_{s \\in \\mathcal{S}} \\mathcal{A}(s)$ を設定する。\n",
    "   - 各 $s \\in \\mathcal{S}$ に対して、次の条件を満たす $d_{n+1}(s)$ を選択する：\n",
    "     $$\n",
    "     d_{n+1}(s) \\in \\left\\{ a \\in \\mathcal{A}(s) : \\inf_{p \\in \\mathcal{P}(s, a)} \\mathbf{E}^{p} \\left[ r(s, a, s') + \\lambda V(s') \\right] \\geq \\tilde{V}(s) - \\epsilon \\right\\}\n",
    "     $$\n",
    "     可能であれば、$d_{n+1}(s) = d_{n}(s)$ を設定する。\n",
    "\n",
    "4. end while\n",
    "\n",
    "**戻り値:**  \n",
    "$d_{n+1}$\n"
   ]
  },
  {
   "cell_type": "code",
   "execution_count": null,
   "metadata": {},
   "outputs": [],
   "source": []
  }
 ],
 "metadata": {
  "kernelspec": {
   "display_name": "Python 3",
   "language": "python",
   "name": "python3"
  },
  "language_info": {
   "codemirror_mode": {
    "name": "ipython",
    "version": 3
   },
   "file_extension": ".py",
   "mimetype": "text/x-python",
   "name": "python",
   "nbconvert_exporter": "python",
   "pygments_lexer": "ipython3",
   "version": "3.10.12"
  }
 },
 "nbformat": 4,
 "nbformat_minor": 2
}
