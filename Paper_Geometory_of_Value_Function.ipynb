{
 "cells": [
  {
   "cell_type": "markdown",
   "id": "7ae453c5",
   "metadata": {},
   "source": [
    "\n",
    "\n",
    "\n",
    "\n",
    "## 準備\n",
    "図1のように、定常方策から価値関数への写像$\\pi \\mapsto V^{\\pi}$を考えます。入力の定義域は結合単体(各状態$s\\in \\mathcal{S}$に対する行動$a\\in\\mathcal{A}$の確率単体を各$s\\in \\mathcal{S}$分直積にした集合が張る空間)になるので、その中の任意の点が各$\\pi$となり、そこから写像される$V^{\\pi}$の値域がどのような形状になるかを検証することが本論文の検証したい内容です。\n",
    "\n",
    "![図1](https://cdn.mathpix.com/cropped/2025_04_10_0a7a851cbf58870af2cdg-1.jpg?height=231&width=480&top_left_y=1755&top_left_x=1229)\n",
    "\n",
    "**写像の定義**\n",
    "$$\n",
    "\\begin{aligned}\n",
    "f_{v}: \\mathcal{P}(\\mathcal{A})^{\\mathcal{S}} & \\rightarrow \\mathbb{R}^{\\mathcal{S}} \\\\\n",
    "\\pi & \\mapsto V^{\\pi}=\\left(I-\\gamma P^{\\pi}\\right)^{-1} r_{\\pi}\n",
    "\\end{aligned}\n",
    "$$\n",
    "## ポリトープ\n",
    "\n",
    "以下にポリトープの定義と性質を書いていきます。\n",
    "\n",
    "**定義1:凸ポリトープ**\n",
    "* 有限個 ($k$) の点 $x_1, \\dots, x_k \\in \\mathbb{R}^n$ の凸包として表現できる集合 $P = \\operatorname{Conv}(x_1, \\dots, x_k)$\n",
    "\n",
    "**定義2:凸多面体**\n",
    "* 有限個 ($k$) の半空間 $\\hat{H}_1, \\dots, \\hat{H}_k$ の共通部分として表現できる集合 $P = \\cap_{i=1}^k \\hat{H}_k$\n",
    "\t**性質1**\n",
    "\t* 有界な凸多面体は凸ポリトープとなります\n",
    "\n",
    "**定義3:ポリトープの一般化(非凸含む)**\n",
    "* 凸ポリトープの有限個の和集合\n",
    "\n",
    "**定義4:多面体の一般化(非凸含む)**\n",
    "* *凸多面体の有限個の和集合\n",
    "\n",
    "## 価値関数の空間\n",
    "$f_{v}$の出力を図にしたものを示します。\n",
    "![](https://cdn.mathpix.com/cropped/2025_04_10_0a7a851cbf58870af2cdg-3.jpg?height=792&width=744&top_left_y=772&top_left_x=189)\n",
    "これは、方策の集合(定義域の空間$\\mathcal{V}$)からランダムにサンプリングされた方策のプロットです。この図だけでもMDPに関する3つの性質が可視化されています。\n",
    "* $V^*$は一つだけであり、かつ頂点です\n",
    "* $\\mathcal{V}$は第一象限に存在します(単調性)\n",
    "* 空間は1つにつながっている(連続性)\n",
    "\n",
    "さらに、$\\mathcal{V}$ はコンパクトかつ連続です(補題1)。\n",
    "\n",
    "## 方策一致\n"
   ]
  }
 ],
 "metadata": {
  "language_info": {
   "name": "python"
  }
 },
 "nbformat": 4,
 "nbformat_minor": 5
}
