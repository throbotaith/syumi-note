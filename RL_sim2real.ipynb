{
 "cells": [
  {
   "cell_type": "markdown",
   "metadata": {},
   "source": [
    "### 準備\n",
    "#### 有限ホライゾンMDP\n",
    "*   **$\\mathcal{M}$**: MDP (マルコフ決定過程)。 $(\\mathcal{S}, \\mathcal{A}, P, R, H, s_1)$ \n",
    "*   **$\\mathcal{S}$**: 状態空間(非常に大きくなる可能性あり)\n",
    "*   **$\\mathcal{A}$**: 行動空間(非常に大きくなる可能性あり)\n",
    "*   **$P$**: 状態遷移確率\n",
    "*   **$R$**: 報酬関数($[0,1]$)\n",
    "*   **$H$**: エピソードステップ数\n",
    "*   **$s_1$**: 初期状態\n",
    "*    **$h_h$**: ステップ $h$ までの履歴軌跡\n",
    "*   **$\\Pi$**: 履歴依存方策クラス\n",
    "*   **$\\pi$**: 方策\n",
    "*   **$\\pi_h$**: ステップ $h$ の方策\n",
    "*   **$V_{\\mathcal{M}, h}^\\pi(s)$**: 状態価値関数\n",
    "*   **$Q_{\\mathcal{M}, h}^\\pi(s, a)$**: 行動価値関数\n",
    "*   **$\\pi_{\\mathcal{M}}^*$**: 最適方策\n",
    "*   **$V_{\\mathcal{M}, h}^*$**:最適状態価値関数。\n",
    "*   **$Q_{\\mathcal{M}, h}^*$**: 最適行動価値関数\n",
    "#### sim2real transfer\n",
    "*   **$\\mathcal{U}$**: MDPの集合\n",
    "*   **$\\mathcal{M} = (\\mathcal{S}, \\mathcal{A}, P_{\\mathcal{M}}, R, H, s_1)$**: $\\mathcal{U}$に含まれるMDP\n",
    "*   **$P_{\\mathcal{M}}$**: $\\mathcal{M}$ の状態遷移確率\n",
    "*   **$\\mathcal{M}^*$**: 実環境に対応する$\\mathcal{U}$内のMDP\n",
    "*   **$\\operatorname{Gap}(\\pi)=V_{\\mathcal{M}^*, 1}^*\\left(s_1\\right)-V_{\\mathcal{M}^*, 1}^\\pi\\left(s_1\\right)$**: sim2realギャップ\n",
    "\n",
    "#### Domain randamizationとLatent MDP\n",
    "\n",
    "*   $(\\mathcal{U}, \\nu)$: Latent MDP\n",
    "*   **$\\nu$**: $\\mathcal{U}$ 上の確率分布エピソード開始時に、この分布に従ってMDP $\\mathcal{M}$ がランダムに選択される。\n",
    "*   Domain Randomization Oracle(DRO): LMDP $(\\mathcal{U}, \\nu)$ の最適**履歴依存**方策 $\\pi_{D R}^*$ を返すオラクル\n",
    "    *   $\\pi_{D R}^*=\\underset{\\pi \\in \\Pi}{\\arg \\max } \\mathbb{E}_{\\mathcal{M} \\sim \\nu} V_{\\mathcal{M}, 1}^\\pi\\left(s_1\\right)$\n",
    "\n",
    "### Theorem 1(sim2realギャップ)\n",
    "#### 主張\n",
    "$$\n",
    "\\operatorname{Gap}\\left(\\pi_{D R}^*\\right)=O\\left(\\frac{D M^3 \\log (M H) \\log ^2(S M H / \\delta)}{\\delta^4}\\right)\n",
    "$$\n",
    "#### 証明\n"
   ]
  }
 ],
 "metadata": {
  "language_info": {
   "name": "python"
  }
 },
 "nbformat": 4,
 "nbformat_minor": 2
}
