{
 "cells": [
  {
   "cell_type": "markdown",
   "id": "d60ca8b1",
   "metadata": {},
   "source": [
    "# このページについて\n",
    "Bandit本7章のUCBにおける定理7.1の証明を載せます．\n",
    "\n",
    "## 定義\n",
    "\n",
    "$$\n",
    "\\hat{\\mu}_{is} = \\frac{1}{s} \\sum_{u=1}^s X_{ui}\n",
    "$$\n",
    "$$\n",
    "\\hat{\\mu}_i(t) = \\hat{\\mu}_{i, T_i(t)}\n",
    "$$\n",
    "$$\n",
    "\\Delta_i = \\mu^* - \\mu_i\n",
    "$$\n",
    "$$\n",
    "\\mathrm{UCB}_i(t-1, \\delta) = \\begin{cases} \\infty & \\text{ if } T_i(t-1) = 0 \\\\ \\hat{\\mu}_i(t-1) + \\sqrt{\\frac{2 \\log(1/\\delta)}{T_i(t-1)}} & \\text{ otherwise} \\end{cases} \\quad (7.2)\n",
    "$$\n",
    "$$\n",
    "R_n = n \\mu^* - \\sum_{t=1}^n \\mu_{A_t} = \\sum_{i=1}^k \\Delta_i \\mathbb{E}[T_i(n)] \n",
    "$$\n",
    "\n",
    "## 定理\n",
    "$$\n",
    "R_n \\le 3 \\sum_{i=1}^k \\Delta_i + \\sum_{i: \\Delta_i > 0} \\frac{16 \\log(n)}{\\Delta_i^2}\n",
    "$$\n",
    "\n",
    "## 定理の証明\n",
    "![](https://cdn.mathpix.com/snip/images/29w-aoxbxBFLCTCaN2b4mbeHjF6J076sVzOYOz3jSP4.original.fullsize.png)\n",
    "\n",
    "![](https://cdn.mathpix.com/snip/images/UEP7csW0FeTeeTJSBxVFXcNI-BOuSz3dXKzr3Xqn3-A.original.fullsize.png)\n",
    "\n",
    "![](https://cdn.mathpix.com/snip/images/UJXHGfLJWN0Vxz4BE-VOjlGLS_w-t2pIky0wApQXkBE.original.fullsize.png)\n",
    "\n",
    "![](https://cdn.mathpix.com/snip/images/jX_eMALMBPCkhie7kAsgis5yDaVGm4nkGLdZf6HdZPs.original.fullsize.png)\n",
    "\n",
    "![](https://cdn.mathpix.com/snip/images/yz44SsZ3Vb_pMSGmRDGQiME6eIUC6hPfSHpCcF1hMcI.original.fullsize.png)\n",
    "\n",
    "![](https://cdn.mathpix.com/snip/images/Jd-8HV4S-uY1mKvIa6vFPWLIxx_XR8krSaafv4849CU.original.fullsize.png)"
   ]
  }
 ],
 "metadata": {
  "language_info": {
   "name": "python"
  }
 },
 "nbformat": 4,
 "nbformat_minor": 5
}
