{
 "cells": [
  {
   "cell_type": "markdown",
   "metadata": {},
   "source": [
    "### Distributionally Robust Optimization(分布ロバスト最適化)\n",
    "このページでは、Kuhnらの**Distributionally Robust Optimization**の勉強メモをまとめます。初学者なので、言葉の定義等を丁寧にまとめます。冗長かもしれませんがご了承ください。本論文(というより理論本)のURLは以下の通りです。\n",
    "https://arxiv.org/abs/2411.02549\n",
    "#### 第3章：不確実性集合のトポロジー性質\n",
    "\n",
    "ロバスト最適化において、不確実性集合は重要な役割をもっています。不確実性集合を適切に設計しなければ、計算がNP困難になったり最適解にたどり着けないなどの問題が発生する可能性があります。では、そのような問題を回避するためには不確実性集合どのような構造を持つべきでしょうか？\n",
    "\n",
    "ロバスト最適化問題をもう一度以下のように示します。\n",
    "$$\n",
    "\\begin{equation*}\n",
    "\\inf _{x \\in \\mathcal{X}} \\sup _{\\mathbb{P} \\in \\mathcal{P}} \\mathbb{E}_{\\mathbb{P}}[\\ell(x, Z)] \\tag{1.2}\n",
    "\\end{equation*}\n",
    "$$\n",
    "$\\mathcal{X}:$ 決定変数 $x$ の取りうる 決定領域\n",
    "$\\mathcal{P}:$ 確率分布 $\\mathbb{P}$ を要素とする不確実性集合\n",
    "$Z$ ：確率変数（または確率ベクトル）\n",
    "$\\ell(x, Z):$  $x$ と $Z$ を入力とする目的関数\n",
    "\n",
    "ロバスト最適化は、**最悪ケース**における最適解を求める問題です。つまり、内側のサブ問題($\\text{sup}$問題)が、不確実性集合における最悪ケースの$\\mathbb{P}$を用いて計算されなければいけません。しかし、不確実性集合の設計によっては**最悪ケースの$\\mathbb{P}$がその集合内に存在しない**可能性があります。\n",
    "\n",
    "もう少し形式的な話をしましょう。関数の$\\text{sup}$問題において重要なのは、ある関数への入力の集合(定義域)内にその関数を最大化する入力が存在しているかどうかである。都合の良いことに、関数が連続関数であり、かつ入力の集合がコンパクト集合の場合、必ず最大値が入力の集合内に存在するという定理があります。この定理をWeierstrass の極値定理といいます。以下のように定義します。\n",
    "***\n",
    "**Weierstrass の極値定理**\n",
    "連続関数 $f: K \\rightarrow \\mathbb{R}$ が，コンパクト集合 $K \\subset \\mathbb{R}^n$ 上で定義されているとき，\n",
    "- 最大値 $\\max _{x \\in K} f(x)$\n",
    "- 最小値 $\\min _{x \\in K} f(x)$\n",
    "が必ず存在する。\n",
    "****\n"
   ]
  },
  {
   "cell_type": "markdown",
   "metadata": {},
   "source": []
  }
 ],
 "metadata": {
  "kernelspec": {
   "display_name": "Python 3",
   "language": "python",
   "name": "python3"
  },
  "language_info": {
   "codemirror_mode": {
    "name": "ipython",
    "version": 3
   },
   "file_extension": ".py",
   "mimetype": "text/x-python",
   "name": "python",
   "nbconvert_exporter": "python",
   "pygments_lexer": "ipython3",
   "version": "3.11.9"
  }
 },
 "nbformat": 4,
 "nbformat_minor": 2
}
