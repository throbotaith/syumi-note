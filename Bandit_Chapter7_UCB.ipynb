{
 "cells": [
  {
   "cell_type": "markdown",
   "metadata": {},
   "source": [
    "### Bandit Algorithms\n",
    "Banditと名前がつくページでは、Lattimore先生とCsaba先生が執筆されたバンディット本の内容を説明します。内容はUCB、下界、線形バンディット、トンプソンサンプリング、マルコフ決定過程などを紹介します。\n"
   ]
  },
  {
   "cell_type": "markdown",
   "metadata": {},
   "source": [
    "#### Upper Confidence Bound"
   ]
  }
 ],
 "metadata": {
  "language_info": {
   "name": "python"
  }
 },
 "nbformat": 4,
 "nbformat_minor": 2
}
