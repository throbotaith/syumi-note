{
 "cells": [
  {
   "cell_type": "markdown",
   "metadata": {},
   "source": [
    "### 非線形最適化の基礎　第3,4章\n",
    "\n",
    "\n",
    "* 制約付きMDP等で用いる部分を中心的にまとめます。\n",
    "\n",
    "\n",
    "\n"
   ]
  }
 ],
 "metadata": {
  "language_info": {
   "name": "python"
  }
 },
 "nbformat": 4,
 "nbformat_minor": 2
}
