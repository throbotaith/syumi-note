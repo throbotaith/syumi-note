{
 "cells": [
  {
   "cell_type": "markdown",
   "metadata": {},
   "source": [
    "#### L-smooth\n",
    "* L-smoothとは、関数に対する性質であり、勾配がリプシッツ連続(急激に変化しない)であることを意味します。\n",
    "\n",
    "\n",
    "**仮定**\n",
    "* $L \\ge 0$ \n",
    "* $f: \\mathbb{E} \\rightarrow (-\\infty, \\infty]$ \n",
    "    * $D \\subseteq \\mathbb{E}$ 上で微分可能\n",
    "\n",
    "**定義 5.1** ($L$-smooth): \n",
    "* 以下の不等式を満たす場合、$D$上で$L$-smoothであるといい、$L$は滑らかさのパラメータと呼ばれます。\n",
    "\n",
    "$$\n",
    "\\|\\nabla f(\\mathbf{x}) - \\nabla f(\\mathbf{y})\\|_* \\le L\\|\\mathbf{x} - \\mathbf{y}\\| \\quad \\text{for all } \\mathbf{x}, \\mathbf{y} \\in D\n",
    "$$\n",
    "\n",
    "##### L-smooth関数が持つ性質\n",
    "\n",
    "L-smooth関数の任意の点における値には上界を設けることができ、以下のように書くことができます。\n",
    "\n",
    "**仮定**\n",
    "* $f: \\mathbb{E} \\rightarrow (-\\infty, \\infty]$：凸集合 $D$ 上で $L$滑らかな関数 ($L \\ge 0$) \n",
    "\n",
    "**補題 5.7** (Descent Lemma): \n",
    "任意の $\\mathbf{x}, \\mathbf{y} \\in D$ に対して、\n",
    "\n",
    "$$\n",
    "f(\\mathbf{y}) \\le f(\\mathbf{x}) + \\langle \\nabla f(\\mathbf{x}), \\mathbf{y} - \\mathbf{x} \\rangle + \\frac{L}{2}\\|\\mathbf{x} - \\mathbf{y}\\|^2\n",
    "$$\n",
    "\n",
    "が成り立つ。\n",
    "\n",
    "L-smooth関数は、上界、下界を持ち、いくつかの計算結果に上界または下界をもちます。\n",
    "\n",
    "\n",
    "**定理 5.8**\n",
    "\n",
    "(i) $f$ は $L$-smoothである。\n",
    "\n",
    "(ii) すべての $\\mathbf{x}, \\mathbf{y} \\in \\mathbb{E}$ に対して、$f(\\mathbf{y}) \\le f(\\mathbf{x}) + \\langle \\nabla f(\\mathbf{x}), \\mathbf{y} - \\mathbf{x} \\rangle + \\frac{L}{2} \\|\\mathbf{x} - \\mathbf{y}\\|^2$。\n",
    "\n",
    "(iii) すべての $\\mathbf{x}, \\mathbf{y} \\in \\mathbb{E}$ に対して、$f(\\mathbf{y}) \\ge f(\\mathbf{x}) + \\langle \\nabla f(\\mathbf{x}), \\mathbf{y} - \\mathbf{x} \\rangle + \\frac{1}{2L} \\|\\nabla f(\\mathbf{x}) - \\nabla f(\\mathbf{y})\\|_*^2$。\n",
    "\n",
    "(iv) すべての $\\mathbf{x}, \\mathbf{y} \\in \\mathbb{E}$ に対して、$\\langle \\nabla f(\\mathbf{x}) - \\nabla f(\\mathbf{y}), \\mathbf{x} - \\mathbf{y} \\rangle \\ge \\frac{1}{L} \\|\\nabla f(\\mathbf{x}) - \\nabla f(\\mathbf{y})\\|_*^2$。\n",
    "\n",
    "(v) 任意の $\\mathbf{x}, \\mathbf{y} \\in \\mathbb{E}$ と $\\lambda \\in [0, 1]$ に対して、$f(\\lambda\\mathbf{x} + (1-\\lambda)\\mathbf{y}) \\ge \\lambda f(\\mathbf{x}) + (1-\\lambda)f(\\mathbf{y}) - \\frac{L}{2}\\lambda(1-\\lambda)\\|\\mathbf{x} - \\mathbf{y}\\|^2$。\n",
    "\n"
   ]
  }
 ],
 "metadata": {
  "language_info": {
   "name": "python"
  }
 },
 "nbformat": 4,
 "nbformat_minor": 2
}
