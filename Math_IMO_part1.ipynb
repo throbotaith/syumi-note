{
 "cells": [
  {
   "cell_type": "markdown",
   "id": "664ed9e7",
   "metadata": {},
   "source": [
    "# このページについて\n",
    "研究は、知識をためてアウトプットするフェーズと、問題を捉え、問題解決のために必要なツールを選定して解決を図るフェーズがあると思います。自分は後者を不得意としているので、数学オリンピックのための入門書を読むことでその解決能力を身に着けたいと思いました。そこで、[A First Step to Mathematical Olympiad Problems ](https://archive.org/details/mathematical-olympiad-series-1-holton-derek-allan-a-first-step-to-mathemetical_olympiad-problems/page/n5/mode/2up)を使った勉強を行いたいと思います。\n",
    "\n",
    "# 問題解決の方法\n",
    "問題解決のための分析は以下のような手順で行います。\n",
    "\n",
    "1. ある問題に取り組む\n",
    "2. 読んで理解する\n",
    "3. 重要な言葉を発見する\n",
    "4. 自分の言葉で問題を言い換える\n",
    "5. パニックになる\n",
    "\t1. 次になにをすべきかを考える\n",
    "6. システム(図や表など)を用いる\n",
    "\t1. 図を作ったり作業に何らかのシステムを取り入れる\n",
    "7. システムからパターンを導く\n",
    "8. 推測をする\n",
    "9. 具体的な数学的技法を用いる\n",
    "10. 解決策を説明する\n",
    "11. 問題を一般化する\n",
    "\n",
    "**問題例**\n",
    "3リットルの水差しと5リットルの水差しがある場合、正確に7リットルの水を計量できるか？\n"
   ]
  }
 ],
 "metadata": {
  "language_info": {
   "name": "python"
  }
 },
 "nbformat": 4,
 "nbformat_minor": 5
}
