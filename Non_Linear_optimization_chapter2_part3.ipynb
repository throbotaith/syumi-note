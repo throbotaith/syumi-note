{
 "cells": [
  {
   "cell_type": "code",
   "execution_count": null,
   "id": "03d5f219",
   "metadata": {},
   "outputs": [
    {
     "data": {
      "application/vnd.jupyter.widget-view+json": {
       "model_id": "3f1bda5715704ff39d1f0bb456d3c10b",
       "version_major": 2,
       "version_minor": 0
      },
      "text/plain": [
       "interactive(children=(FloatSlider(value=2.0, description='α max', max=5.0, min=0.1), Output()), _dom_classes=(…"
      ]
     },
     "metadata": {},
     "output_type": "display_data"
    },
    {
     "data": {
      "text/plain": [
       "<function __main__.plot_cone(alpha_max=2.0)>"
      ]
     },
     "execution_count": 5,
     "metadata": {},
     "output_type": "execute_result"
    }
   ],
   "source": [
    "# 錘（cone）の定義 x ∈ A, α ∈ [0, ∞) → αx ∈ C を可視化\n",
    "import numpy as np\n",
    "import plotly.graph_objs as go\n",
    "from ipywidgets import interact, FloatSlider\n",
    "\n",
    "# ベクトル集合 A の初期定義（例：2つのベクトル）\n",
    "A = np.array([\n",
    "    [1, 0, 0],\n",
    "    [0, 1, 0]\n",
    "])\n",
    "\n",
    "# α の範囲で拡張された錘の可視化用メッシュを生成\n",
    "def generate_cone_points(A, alpha_max=2.0, num_alpha=50):\n",
    "    alphas = np.linspace(0, alpha_max, num_alpha)\n",
    "    points = []\n",
    "    for alpha in alphas:\n",
    "        for a in A:\n",
    "            points.append(alpha * a)\n",
    "    return np.array(points)\n",
    "\n",
    "# 描画関数\n",
    "def plot_cone(alpha_max=2.0):\n",
    "    points = generate_cone_points(A, alpha_max)\n",
    "    x, y, z = points[:,0], points[:,1], points[:,2]\n",
    "\n",
    "    # 元のベクトル A の描画\n",
    "    vec_traces = [\n",
    "        go.Scatter3d(x=[0, v[0]], y=[0, v[1]], z=[0, v[2]],\n",
    "                     mode='lines+markers',\n",
    "                     line=dict(color='blue', width=6),\n",
    "                     marker=dict(size=4),\n",
    "                     name=f\"A vector {i+1}\")\n",
    "        for i, v in enumerate(A)\n",
    "    ]\n",
    "\n",
    "    # 錘の点集合の描画\n",
    "    cone_trace = go.Scatter3d(\n",
    "        x=x, y=y, z=z,\n",
    "        mode='markers',\n",
    "        marker=dict(size=2, color='orange'),\n",
    "        name='αx in C'\n",
    "    )\n",
    "\n",
    "    fig = go.Figure(data=vec_traces + [cone_trace])\n",
    "    fig.update_layout(\n",
    "        scene=dict(\n",
    "            xaxis=dict(range=[-alpha_max, alpha_max]),\n",
    "            yaxis=dict(range=[-alpha_max, alpha_max]),\n",
    "            zaxis=dict(range=[-0.5, 0.5]),\n",
    "            aspectmode='cube',\n",
    "            xaxis_title='X',\n",
    "            yaxis_title='Y',\n",
    "            zaxis_title='Z'\n",
    "        ),\n",
    "        title=f\"Cone: x ∈ A, α ∈ [0, {alpha_max}] → αx ∈ C\",\n",
    "        margin=dict(l=0, r=0, b=0, t=40)\n",
    "    )\n",
    "    fig.show()\n",
    "\n",
    "# スライダー付きインタラクティブ表示\n",
    "interact(\n",
    "    plot_cone,\n",
    "    alpha_max=FloatSlider(value=2.0, min=0.1, max=5.0, step=0.1, description='α max')\n",
    ")\n"
   ]
  }
 ],
 "metadata": {
  "kernelspec": {
   "display_name": "base",
   "language": "python",
   "name": "python3"
  },
  "language_info": {
   "codemirror_mode": {
    "name": "ipython",
    "version": 3
   },
   "file_extension": ".py",
   "mimetype": "text/x-python",
   "name": "python",
   "nbconvert_exporter": "python",
   "pygments_lexer": "ipython3",
   "version": "3.12.7"
  }
 },
 "nbformat": 4,
 "nbformat_minor": 5
}
