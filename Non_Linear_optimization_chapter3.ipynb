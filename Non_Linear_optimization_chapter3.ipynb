{
 "cells": [
  {
   "cell_type": "markdown",
   "id": "21301920",
   "metadata": {},
   "source": [
    "## 最適性条件\n",
    "\n",
    "\n",
    "### Karush-Kuhn-Tucker 条件\n",
    "以下のような制約付き最適化問題を考えます．\n",
    "$$\n",
    "\\begin{aligned}\n",
    "\\text{目的関数}&:f(\\boldsymbol{x}) \\longrightarrow \\text{最小}\\\\\n",
    "\n",
    "\\text{制約条件}& :g_i(\\boldsymbol{x}) \\leqq 0 \\quad(i=1, \\ldots, m)\n",
    "\\end{aligned}\n",
    "\n",
    "$$\n",
    "\n",
    "この問題は確実に解ける保証はありません．そこで，この問題を確実に解ける保証，条件を考えましょう．制約付き最適化問題を制約なしの最適化問題に変換して解いていくことを考えます．変換後を**ラグランジュ関数**といい，以下のように定義します．$\\boldsymbol{\\lambda}=\\left(\\lambda_1, \\ldots, \\lambda_m\\right)^{\\top} \\in \\mathbb{R}^m$は**ラグランジュ乗数**と言います．\n",
    "$$\n",
    "L_0(\\boldsymbol{x}, \\boldsymbol{\\lambda})= \\begin{cases}f(\\boldsymbol{x})+\\sum_{i=1}^m \\lambda_i g_i(\\boldsymbol{x}) & (\\boldsymbol{\\lambda} \\geqq 0) \\\\ -\\infty & (\\boldsymbol{\\lambda} \\geqq 0)\\end{cases}\n",
    "$$\n",
    "ここで，**ラグランジュ関数の勾配が0**になるようなラグランジュ乗数が存在するという定理を導きます．この定理の式を，**Karush-Kuhn-Tucker条件**と言います．\n",
    "\n",
    "点 $\\bar{x}$ を問題（3．11）の局所的最適解とし，目的関数 $f: \\mathbb{R}^n \\rightarrow \\mathbb{R}$ と制約関数 $g_i: \\mathbb{R}^n \\rightarrow \\mathbb{R}(i=1, \\ldots, m)$ は $\\bar{x}$ において微分可能とする． そのとき，$C_S(\\bar{x}) \\subseteq \\operatorname{co} T_S(\\bar{x})$ であれば，次式を満足するラグランジュ乗数 $\\bar{\\lambda} \\in \\mathbb{R}^m$ が存在する．\n",
    "$$\n",
    "\\begin{aligned}\n",
    "& \\nabla_x L_0(\\overline{\\boldsymbol{x}}, \\overline{\\boldsymbol{\\lambda}})=\\nabla f(\\overline{\\boldsymbol{x}})+\\sum_{i=1}^m \\bar{\\lambda}_i \\nabla g_i(\\overline{\\boldsymbol{x}})=0 \\\\\n",
    "& \\bar{\\lambda}_i \\geqq 0, g_i(\\overline{\\boldsymbol{x}}) \\leqq 0, \\bar{\\lambda}_i g_i(\\bar{x})=0 \\quad(i=1, \\ldots, m)\n",
    "\\end{aligned}\n",
    "$$\n",
    "\n",
    "\n"
   ]
  }
 ],
 "metadata": {
  "language_info": {
   "name": "python"
  }
 },
 "nbformat": 4,
 "nbformat_minor": 5
}
