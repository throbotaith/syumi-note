{
 "cells": [
  {
   "cell_type": "markdown",
   "metadata": {},
   "source": [
    "## Constrained Markov Decision Processes\n",
    "* このページでは、Eitan Altman先生が執筆された[Constrained Markov Decision Processes](https://www.taylorfrancis.com/books/mono/10.1201/9781315140223/constrained-markov-decision-processes-eitan-altman \"Constrained Markov Decision Processes\")の理論本で学んだことを書いていこうとおもいます。ここでは第6章について、学んだことをまとめます。\n",
    "* 第6章では、有限の状態行動空間から、無限の状態行動空間に拡張したときに、どういった頃が起きるのか？を考えます。"
   ]
  },
  {
   "cell_type": "markdown",
   "metadata": {},
   "source": []
  }
 ],
 "metadata": {
  "language_info": {
   "name": "python"
  }
 },
 "nbformat": 4,
 "nbformat_minor": 2
}
