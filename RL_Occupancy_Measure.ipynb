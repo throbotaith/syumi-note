{
 "cells": [
  {
   "cell_type": "markdown",
   "metadata": {},
   "source": [
    "#### Occupancy Measureを解析したい\n",
    "\n",
    "Occupancy measureは、状態と行動の訪問頻度を示す関数です。制約付きMDPでは、双対問題でたびたび登場するため非常に重要な関数となっています。\n",
    "\n",
    "\n",
    "#### Occupancy Measureの定義\n",
    "\n",
    "[アルバータ大学のRL Theory](https://rltheory.github.io/lecture-notes/planning-in-mdps/lec2/)を基に以下のようにOccupancy Measureを定義します。\n",
    "\n",
    "\n",
    "\n",
    "\n"
   ]
  },
  {
   "cell_type": "markdown",
   "metadata": {},
   "source": []
  },
  {
   "cell_type": "markdown",
   "metadata": {},
   "source": []
  }
 ],
 "metadata": {
  "language_info": {
   "name": "python"
  }
 },
 "nbformat": 4,
 "nbformat_minor": 2
}
