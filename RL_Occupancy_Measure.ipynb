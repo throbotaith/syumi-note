{
 "cells": [
  {
   "cell_type": "markdown",
   "metadata": {},
   "source": [
    "#### (Discounted) Occupancy Measureを解析したい\n",
    "\n",
    "Occupancy measureは、状態と行動の訪問頻度を示す関数です。制約付きMDPでは、双対問題でたびたび登場するため非常に重要な関数となっています。\n",
    "\n",
    "\n",
    "#### Discounted Occupancy Measure(以降、割引OM)の定義\n",
    "\n",
    "[アルバータ大学のRL Theory](https://rltheory.github.io/lecture-notes/planning-in-mdps/lec2/)を基に以下のようにOccupancy Measureを定義します。\n",
    "\n",
    "割引無限MDP　$\\mathcal{M}$ において、初期状態の分布 $\\mu \\in \\mathcal{M}_1(\\mathcal{S})$と方策 $\\pi$ が与えられた場合、$\\mu$と$\\pi$、$\\mathcal{M}$によって誘導される割引OMは、$\\nu_{\\mu}^{\\pi} \\in \\mathcal{M}_{1 /(1-\\gamma)}(\\mathcal{S} \\times \\mathcal{A})$ を\n",
    "\n",
    "$\\nu_{\\mu}^{\\pi}(s, a)=\\sum_{t=0}^{\\infty} \\gamma^{t} \\mathbb{P}_{\\mu}^{\\pi}\\left(S_{t}=s, A_{t}=a\\right)$\n",
    "\n",
    "とします。\n",
    "* $1 /(1-\\gamma)$：OMの合計値\n",
    "\n",
    "---\n",
    "**$\\mathbb{P}_{\\mu}^{\\pi}\\left(S_{t}=s, A_{t}=a\\right)$について**\n",
    "$\\mathbb{P}$は以下のような性質を満たす確率測度ですが、MDPにおける状態遷移確率とおなじような役割を果たすものです。\n",
    "\n",
    "1. すべての $s \\in \\mathcal{S}$ に対して $\\mathbb{P}\\left(S_{0}=s\\right)=\\mu(s)$。\n",
    "2. すべての $a \\in \\mathcal{A}$, $t \\geq 0$ に対して $\\mathbb{P}\\left(A_{t}=a \\mid H_{t}\\right)=\\pi_{t}\\left(a \\mid H_{t}\\right)$。\n",
    "3. すべての $s^{\\prime} \\in \\mathcal{S}$ に対して $\\mathbb{P}\\left(S_{t+1}=s^{\\prime} \\mid H_{t}, A_{t}\\right)=P_{A_{t}}\\left(S_{t}, s^{\\prime}\\right)$。\n",
    "\n",
    "---\n",
    "状態に関するOMは、\n",
    "\n",
    "\n",
    "$\\nu_{\\mu}^{\\pi}(s):=\\sum_{a}\\sum_{t=0}^{\\infty} \\gamma^{t} \\mathbb{P}_{\\mu}^{\\pi}\\left(S_{t}=s, A_{t}=a\\right)$\n",
    "\n",
    "となります。\n",
    "\n",
    "---\n",
    "OMは確率測度の無限列ととらえることができます。ノイマン級数で無限列を展開しましょう。\n"
   ]
  },
  {
   "cell_type": "markdown",
   "metadata": {},
   "source": []
  },
  {
   "cell_type": "markdown",
   "metadata": {},
   "source": []
  }
 ],
 "metadata": {
  "language_info": {
   "name": "python"
  }
 },
 "nbformat": 4,
 "nbformat_minor": 2
}
